{
 "cells": [
  {
   "cell_type": "code",
   "execution_count": 7,
   "metadata": {},
   "outputs": [],
   "source": [
    "import pandas as pd\n",
    "import numpy as np\n",
    "from tqdm import tqdm\n",
    "from time import time"
   ]
  },
  {
   "cell_type": "code",
   "execution_count": 8,
   "metadata": {},
   "outputs": [],
   "source": [
    "from tensorflow.keras.preprocessing.text import Tokenizer\n",
    "from tensorflow.keras.preprocessing.sequence import pad_sequences\n",
    "from tensorflow.keras.models import Sequential\n",
    "from tensorflow.keras.layers import Dense,Flatten,Embedding,Activation,Dropout,Input\n",
    "from tensorflow.keras.layers import Conv1D,MaxPooling1D,GlobalMaxPooling1D,Bidirectional,LSTM\n",
    "from tensorflow.keras.optimizers import Adam"
   ]
  },
  {
   "cell_type": "code",
   "execution_count": 9,
   "metadata": {},
   "outputs": [],
   "source": [
    "train_json=r'E:\\iiit\\Sem3\\Information Extraction And Retrieval\\major_project\\data\\json\\train_data.json'\n",
    "val_json=r'E:\\iiit\\Sem3\\Information Extraction And Retrieval\\major_project\\data\\json\\val_data.json'"
   ]
  },
  {
   "cell_type": "code",
   "execution_count": 10,
   "metadata": {},
   "outputs": [],
   "source": [
    "embedding_path='D:\\datasets\\glove_twitter_50_100_200\\glove.twitter.27B.200d.txt'"
   ]
  },
  {
   "cell_type": "code",
   "execution_count": null,
   "metadata": {},
   "outputs": [],
   "source": [
    "df_train=pd.read_json(train_json,orient='table')"
   ]
  },
  {
   "cell_type": "code",
   "execution_count": null,
   "metadata": {},
   "outputs": [],
   "source": [
    "df_test=pd.read_json(val_json,orient='table')"
   ]
  },
  {
   "cell_type": "markdown",
   "metadata": {},
   "source": [
    "# fit tokenizer"
   ]
  },
  {
   "cell_type": "code",
   "execution_count": 7,
   "metadata": {},
   "outputs": [],
   "source": [
    "tokenizer=Tokenizer(num_words=90000)\n",
    "tokenizer.fit_on_texts(df_train['clean_text'].values.tolist() + df_test['clean_text'].values.tolist())"
   ]
  },
  {
   "cell_type": "code",
   "execution_count": 8,
   "metadata": {},
   "outputs": [
    {
     "data": {
      "text/plain": [
       "603955"
      ]
     },
     "execution_count": 8,
     "metadata": {},
     "output_type": "execute_result"
    }
   ],
   "source": [
    "vocab_size=len(tokenizer.word_index)+1\n",
    "vocab_size"
   ]
  },
  {
   "cell_type": "markdown",
   "metadata": {},
   "source": [
    "# save tokenizer"
   ]
  },
  {
   "cell_type": "code",
   "execution_count": 9,
   "metadata": {},
   "outputs": [],
   "source": [
    "import pickle\n",
    "with open('tokenizer_large.pickle', 'wb') as handle:\n",
    "     pickle.dump(tokenizer, handle, protocol=pickle.HIGHEST_PROTOCOL)"
   ]
  },
  {
   "cell_type": "markdown",
   "metadata": {},
   "source": [
    "# convert train data"
   ]
  },
  {
   "cell_type": "code",
   "execution_count": 10,
   "metadata": {},
   "outputs": [],
   "source": [
    "max_length=1000"
   ]
  },
  {
   "cell_type": "code",
   "execution_count": 11,
   "metadata": {},
   "outputs": [],
   "source": [
    "encoded_train=tokenizer.texts_to_sequences(df_train['clean_text'].values.tolist())"
   ]
  },
  {
   "cell_type": "code",
   "execution_count": 12,
   "metadata": {},
   "outputs": [],
   "source": [
    "padded_train=pad_sequences(encoded_train,maxlen=max_length,padding='post')"
   ]
  },
  {
   "cell_type": "code",
   "execution_count": 13,
   "metadata": {},
   "outputs": [],
   "source": [
    "np.save('padded_train.npy',padded_train)"
   ]
  },
  {
   "cell_type": "code",
   "execution_count": 14,
   "metadata": {},
   "outputs": [],
   "source": [
    "hyperpartisan_labels_train=df_train['hyperpartisan'].values"
   ]
  },
  {
   "cell_type": "code",
   "execution_count": 15,
   "metadata": {},
   "outputs": [],
   "source": [
    "bias_labels_train=df_train['bias'].values"
   ]
  },
  {
   "cell_type": "code",
   "execution_count": 16,
   "metadata": {},
   "outputs": [],
   "source": [
    "np.save('hyperpartisan_labels_train.npy',hyperpartisan_labels_train)\n",
    "np.save('bias_labels_train.npy',bias_labels_train)"
   ]
  },
  {
   "cell_type": "code",
   "execution_count": 13,
   "metadata": {},
   "outputs": [
    {
     "name": "stdout",
     "output_type": "stream",
     "text": [
      "maxmimum size of article in training data 52696\n",
      "Average length of article 582.7644516666667\n"
     ]
    }
   ],
   "source": [
    "max_len_in_train=0\n",
    "average_length=0\n",
    "for text in df_train['clean_text'].values.tolist():\n",
    "    average_length+=len(text.split())\n",
    "    if(len(text.split())>max_len_in_train):\n",
    "        max_len_in_train=len(text.split())\n",
    "print(f'maxmimum size of article in training data {max_len_in_train}')\n",
    "ag=average_length/len(df_train['clean_text'].values)\n",
    "print(f'Average length of article {ag}')"
   ]
  },
  {
   "cell_type": "markdown",
   "metadata": {},
   "source": [
    "# convert the test data "
   ]
  },
  {
   "cell_type": "code",
   "execution_count": 5,
   "metadata": {},
   "outputs": [],
   "source": [
    "import pickle\n",
    "with open('tokenizer_large.pickle', 'rb') as handle:\n",
    "    tokenizer = pickle.load(handle)"
   ]
  },
  {
   "cell_type": "code",
   "execution_count": 6,
   "metadata": {},
   "outputs": [],
   "source": [
    "df_test=pd.read_json(val_json,orient='table')"
   ]
  },
  {
   "cell_type": "code",
   "execution_count": 17,
   "metadata": {},
   "outputs": [],
   "source": [
    "encoded_test=tokenizer.texts_to_sequences(df_test['clean_text'].values.tolist())"
   ]
  },
  {
   "cell_type": "code",
   "execution_count": 18,
   "metadata": {},
   "outputs": [
    {
     "data": {
      "text/plain": [
       "150000"
      ]
     },
     "execution_count": 18,
     "metadata": {},
     "output_type": "execute_result"
    }
   ],
   "source": [
    "len(encoded_test)"
   ]
  },
  {
   "cell_type": "code",
   "execution_count": 19,
   "metadata": {},
   "outputs": [],
   "source": [
    "padded_test=pad_sequences(encoded_test,maxlen=max_length,padding='post')"
   ]
  },
  {
   "cell_type": "code",
   "execution_count": 20,
   "metadata": {},
   "outputs": [],
   "source": [
    "np.save('padded_test.npy',padded_test)"
   ]
  },
  {
   "cell_type": "code",
   "execution_count": 21,
   "metadata": {},
   "outputs": [],
   "source": [
    "hyperpartisan_labels_test=df_test['hyperpartisan'].values"
   ]
  },
  {
   "cell_type": "code",
   "execution_count": 22,
   "metadata": {},
   "outputs": [],
   "source": [
    "bias_labels_test=df_test['bias'].values"
   ]
  },
  {
   "cell_type": "code",
   "execution_count": 23,
   "metadata": {},
   "outputs": [],
   "source": [
    "np.save('hyperpartisan_labels_test.npy',hyperpartisan_labels_test)\n",
    "np.save('bias_labels_test.npy',bias_labels_test)"
   ]
  },
  {
   "cell_type": "markdown",
   "metadata": {},
   "source": [
    "# load GLoVE embeddings"
   ]
  },
  {
   "cell_type": "code",
   "execution_count": 11,
   "metadata": {},
   "outputs": [],
   "source": [
    "import pickle\n",
    "with open('tokenizer_large.pickle', 'rb') as handle:\n",
    "    tokenizer = pickle.load(handle)\n",
    "\n",
    "vocab_size=len(tokenizer.word_index)+1\n",
    "\n",
    "max_length=1000"
   ]
  },
  {
   "cell_type": "code",
   "execution_count": 12,
   "metadata": {},
   "outputs": [],
   "source": [
    "glove_vectors={}\n",
    "embedding_path='D:\\datasets\\glove_twitter_50_100_200\\glove.twitter.27B.200d.txt'"
   ]
  },
  {
   "cell_type": "code",
   "execution_count": 13,
   "metadata": {},
   "outputs": [
    {
     "name": "stderr",
     "output_type": "stream",
     "text": [
      "1193514it [00:52, 22522.82it/s]"
     ]
    },
    {
     "name": "stdout",
     "output_type": "stream",
     "text": [
      "Wall time: 53.1 s\n"
     ]
    },
    {
     "name": "stderr",
     "output_type": "stream",
     "text": [
      "\n"
     ]
    }
   ],
   "source": [
    "%%time\n",
    "file=open(embedding_path,encoding='utf-8')\n",
    "for line in tqdm(file):\n",
    "    values=line.split()\n",
    "    word=values[0]\n",
    "    vectors=np.asarray(values[1:])\n",
    "    glove_vectors[word]=vectors"
   ]
  },
  {
   "cell_type": "code",
   "execution_count": 14,
   "metadata": {},
   "outputs": [],
   "source": [
    "embedding_matrix=np.zeros((vocab_size,200))\n",
    "nalist=[]\n",
    "for word,index in tokenizer.word_index.items():\n",
    "    vector=glove_vectors.get(word)\n",
    "    if(vector is not None):\n",
    "        embedding_matrix[index]=vector\n",
    "    else:\n",
    "        nalist.append(word)"
   ]
  },
  {
   "cell_type": "markdown",
   "metadata": {},
   "source": [
    "# Load transformed training data"
   ]
  },
  {
   "cell_type": "code",
   "execution_count": 15,
   "metadata": {},
   "outputs": [],
   "source": [
    "x=np.load('padded_train.npy')"
   ]
  },
  {
   "cell_type": "code",
   "execution_count": 16,
   "metadata": {},
   "outputs": [],
   "source": [
    "from sklearn.preprocessing import OneHotEncoder,LabelEncoder\n",
    "labels=np.load('hyperpartisan_labels_train.npy',allow_pickle=True)\n",
    "le=LabelEncoder()\n",
    "y=le.fit_transform(labels)"
   ]
  },
  {
   "cell_type": "markdown",
   "metadata": {},
   "source": [
    "# Define the model"
   ]
  },
  {
   "cell_type": "code",
   "execution_count": 21,
   "metadata": {},
   "outputs": [],
   "source": [
    "vector_size=200\n",
    "model=Sequential()\n",
    "\n",
    "model.add(Input(shape=(1000,), dtype='int32'))\n",
    "\n",
    "model.add(Embedding(vocab_size,vector_size,input_length=max_length,weights=[embedding_matrix],trainable=False))\n",
    "\n",
    "model.add(Conv1D(128,5,activation='relu'))\n",
    "model.add(MaxPooling1D(5))\n",
    "\n",
    "model.add(Conv1D(128,5,activation='relu'))\n",
    "model.add(MaxPooling1D(5))\n",
    "\n",
    "model.add(Conv1D(64,5,activation='relu'))\n",
    "model.add(GlobalMaxPooling1D())\n",
    "\n",
    "\n",
    "model.add(Dense(128,activation='relu'))\n",
    "model.add(Dropout(0.4))\n",
    "\n",
    "\n",
    "model.add(Dense(64,activation='relu'))\n",
    "model.add(Dropout(0.4))\n",
    "\n",
    "model.add(Dense(32,activation='relu'))\n",
    "\n",
    "\n",
    "model.add(Dense(1,activation='sigmoid'))\n",
    "\n",
    "model.compile(optimizer='adam',loss='binary_crossentropy',metrics=['accuracy'])\n"
   ]
  },
  {
   "cell_type": "code",
   "execution_count": 22,
   "metadata": {},
   "outputs": [
    {
     "name": "stdout",
     "output_type": "stream",
     "text": [
      "Model: \"sequential_1\"\n",
      "_________________________________________________________________\n",
      "Layer (type)                 Output Shape              Param #   \n",
      "=================================================================\n",
      "embedding_1 (Embedding)      (None, 1000, 200)         120791000 \n",
      "_________________________________________________________________\n",
      "conv1d_3 (Conv1D)            (None, 996, 128)          128128    \n",
      "_________________________________________________________________\n",
      "max_pooling1d_2 (MaxPooling1 (None, 199, 128)          0         \n",
      "_________________________________________________________________\n",
      "conv1d_4 (Conv1D)            (None, 195, 128)          82048     \n",
      "_________________________________________________________________\n",
      "max_pooling1d_3 (MaxPooling1 (None, 39, 128)           0         \n",
      "_________________________________________________________________\n",
      "conv1d_5 (Conv1D)            (None, 35, 64)            41024     \n",
      "_________________________________________________________________\n",
      "global_max_pooling1d_1 (Glob (None, 64)                0         \n",
      "_________________________________________________________________\n",
      "dense_4 (Dense)              (None, 128)               8320      \n",
      "_________________________________________________________________\n",
      "dropout_2 (Dropout)          (None, 128)               0         \n",
      "_________________________________________________________________\n",
      "dense_5 (Dense)              (None, 64)                8256      \n",
      "_________________________________________________________________\n",
      "dropout_3 (Dropout)          (None, 64)                0         \n",
      "_________________________________________________________________\n",
      "dense_6 (Dense)              (None, 32)                2080      \n",
      "_________________________________________________________________\n",
      "dense_7 (Dense)              (None, 1)                 33        \n",
      "=================================================================\n",
      "Total params: 121,060,889\n",
      "Trainable params: 269,889\n",
      "Non-trainable params: 120,791,000\n",
      "_________________________________________________________________\n"
     ]
    }
   ],
   "source": [
    "model.summary()"
   ]
  },
  {
   "cell_type": "code",
   "execution_count": 15,
   "metadata": {},
   "outputs": [],
   "source": [
    "from tensorflow.keras.callbacks import EarlyStopping, ModelCheckpoint"
   ]
  },
  {
   "cell_type": "code",
   "execution_count": 16,
   "metadata": {},
   "outputs": [],
   "source": [
    "es = EarlyStopping(monitor='val_loss', mode='min', verbose=1, patience=2)\n",
    "mc = ModelCheckpoint('best_model_glove_1000.h5', monitor='val_accuracy', mode='max', verbose=1, save_best_only=True)"
   ]
  },
  {
   "cell_type": "code",
   "execution_count": 17,
   "metadata": {},
   "outputs": [
    {
     "data": {
      "text/plain": [
       "(array([[   57,  4597,    75, ...,     0,     0,     0],\n",
       "        [    5,   956,   341, ...,     0,     0,     0],\n",
       "        [ 2183,   387,  5174, ...,     0,     0,     0],\n",
       "        ...,\n",
       "        [    1,   259,  1065, ...,     0,     0,     0],\n",
       "        [   11,     8,    32, ...,     0,     0,     0],\n",
       "        [    5, 44788,  2292, ...,   176,  2368,  3410]]),\n",
       " array([1, 1, 0, ..., 0, 0, 1]))"
      ]
     },
     "execution_count": 17,
     "metadata": {},
     "output_type": "execute_result"
    }
   ],
   "source": [
    "x,y"
   ]
  },
  {
   "cell_type": "code",
   "execution_count": 18,
   "metadata": {},
   "outputs": [],
   "source": [
    "from sklearn.model_selection import train_test_split\n",
    "\n",
    "x_train, x_valid, y_train, y_valid = train_test_split(x,y, test_size=0.33, shuffle= True)"
   ]
  },
  {
   "cell_type": "code",
   "execution_count": 19,
   "metadata": {},
   "outputs": [],
   "source": [
    "x=None\n",
    "y=None "
   ]
  },
  {
   "cell_type": "code",
   "execution_count": 23,
   "metadata": {},
   "outputs": [
    {
     "name": "stdout",
     "output_type": "stream",
     "text": [
      "Epoch 1/10\n",
      "3141/3141 [==============================] - ETA: 0s - loss: 0.2508 - accuracy: 0.8826\n",
      "Epoch 00001: val_accuracy improved from -inf to 0.91665, saving model to best_model_glove_1000.h5\n",
      "3141/3141 [==============================] - 176s 56ms/step - loss: 0.2508 - accuracy: 0.8826 - val_loss: 0.1943 - val_accuracy: 0.9166\n",
      "Epoch 2/10\n",
      "3141/3141 [==============================] - ETA: 0s - loss: 0.1730 - accuracy: 0.9259\n",
      "Epoch 00002: val_accuracy improved from 0.91665 to 0.92640, saving model to best_model_glove_1000.h5\n",
      "3141/3141 [==============================] - 174s 55ms/step - loss: 0.1730 - accuracy: 0.9259 - val_loss: 0.1708 - val_accuracy: 0.9264\n",
      "Epoch 3/10\n",
      "3141/3141 [==============================] - ETA: 0s - loss: 0.1487 - accuracy: 0.9372\n",
      "Epoch 00003: val_accuracy improved from 0.92640 to 0.92856, saving model to best_model_glove_1000.h5\n",
      "3141/3141 [==============================] - 175s 56ms/step - loss: 0.1487 - accuracy: 0.9372 - val_loss: 0.1648 - val_accuracy: 0.9286\n",
      "Epoch 4/10\n",
      "3140/3141 [============================>.] - ETA: 0s - loss: 0.1314 - accuracy: 0.9453\n",
      "Epoch 00004: val_accuracy improved from 0.92856 to 0.93087, saving model to best_model_glove_1000.h5\n",
      "3141/3141 [==============================] - 177s 56ms/step - loss: 0.1314 - accuracy: 0.9453 - val_loss: 0.1612 - val_accuracy: 0.9309\n",
      "Epoch 5/10\n",
      "3141/3141 [==============================] - ETA: 0s - loss: 0.1169 - accuracy: 0.9518\n",
      "Epoch 00005: val_accuracy did not improve from 0.93087\n",
      "3141/3141 [==============================] - 173s 55ms/step - loss: 0.1169 - accuracy: 0.9518 - val_loss: 0.1640 - val_accuracy: 0.9299\n",
      "Epoch 6/10\n",
      "3141/3141 [==============================] - ETA: 0s - loss: 0.1035 - accuracy: 0.9580\n",
      "Epoch 00006: val_accuracy improved from 0.93087 to 0.93133, saving model to best_model_glove_1000.h5\n",
      "3141/3141 [==============================] - 177s 56ms/step - loss: 0.1035 - accuracy: 0.9580 - val_loss: 0.1629 - val_accuracy: 0.9313\n",
      "Epoch 00006: early stopping\n"
     ]
    }
   ],
   "source": [
    "history=model.fit(x_train,y_train,validation_data=(x_valid,y_valid),epochs=10,batch_size=128,callbacks=[es,mc])"
   ]
  },
  {
   "cell_type": "code",
   "execution_count": 24,
   "metadata": {},
   "outputs": [
    {
     "data": {
      "image/png": "[encoded data removed]",
      "text/plain": [
       "<Figure size 432x288 with 1 Axes>"
      ]
     },
     "metadata": {
      "needs_background": "light"
     },
     "output_type": "display_data"
    },
    {
     "data": {
      "image/png": "[encoded data removed]",
      "text/plain": [
       "<Figure size 432x288 with 1 Axes>"
      ]
     },
     "metadata": {
      "needs_background": "light"
     },
     "output_type": "display_data"
    }
   ],
   "source": [
    "import matplotlib.pyplot as plt\n",
    "\n",
    "# summarize history for accuracy\n",
    "plt.plot(history.history['accuracy'])\n",
    "plt.plot(history.history['val_accuracy'])\n",
    "plt.title('model accuracy')\n",
    "plt.ylabel('accuracy')\n",
    "plt.xlabel('epoch')\n",
    "plt.legend(['train', 'validation'], loc='upper left')\n",
    "plt.show()\n",
    "\n",
    "# summarize history for loss\n",
    "plt.plot(history.history['loss'])\n",
    "plt.plot(history.history['val_loss'])\n",
    "plt.title('model loss')\n",
    "plt.ylabel('loss')\n",
    "plt.xlabel('epoch')\n",
    "plt.legend(['train', 'validation'], loc='upper left')\n",
    "plt.show()"
   ]
  },
  {
   "cell_type": "markdown",
   "metadata": {},
   "source": [
    "# Test the model"
   ]
  },
  {
   "cell_type": "code",
   "execution_count": 25,
   "metadata": {},
   "outputs": [],
   "source": [
    "from tensorflow.keras.models import load_model\n",
    "model=load_model('best_model_glove_1000.h5')"
   ]
  },
  {
   "cell_type": "code",
   "execution_count": 26,
   "metadata": {},
   "outputs": [],
   "source": [
    "x_test=np.load('padded_test.npy')\n",
    "y_test=le.transform(np.load('hyperpartisan_labels_test.npy',allow_pickle=True))"
   ]
  },
  {
   "cell_type": "code",
   "execution_count": 27,
   "metadata": {},
   "outputs": [
    {
     "name": "stdout",
     "output_type": "stream",
     "text": [
      "WARNING:tensorflow:From <ipython-input-27-db3e43dc1613>:1: Sequential.predict_classes (from tensorflow.python.keras.engine.sequential) is deprecated and will be removed after 2021-01-01.\n",
      "Instructions for updating:\n",
      "Please use instead:* `np.argmax(model.predict(x), axis=-1)`,   if your model does multi-class classification   (e.g. if it uses a `softmax` last-layer activation).* `(model.predict(x) > 0.5).astype(\"int32\")`,   if your model does binary classification   (e.g. if it uses a `sigmoid` last-layer activation).\n"
     ]
    }
   ],
   "source": [
    "predictions=model.predict_classes(x_test)"
   ]
  },
  {
   "cell_type": "code",
   "execution_count": 28,
   "metadata": {},
   "outputs": [],
   "source": [
    "from sklearn.metrics import accuracy_score,f1_score"
   ]
  },
  {
   "cell_type": "code",
   "execution_count": 29,
   "metadata": {},
   "outputs": [
    {
     "data": {
      "text/plain": [
       "array([0, 1, 1, ..., 1, 1, 0])"
      ]
     },
     "execution_count": 29,
     "metadata": {},
     "output_type": "execute_result"
    }
   ],
   "source": [
    "y_test"
   ]
  },
  {
   "cell_type": "code",
   "execution_count": 30,
   "metadata": {},
   "outputs": [
    {
     "data": {
      "text/plain": [
       "array([[0],\n",
       "       [1],\n",
       "       [1],\n",
       "       ...,\n",
       "       [1],\n",
       "       [1],\n",
       "       [1]])"
      ]
     },
     "execution_count": 30,
     "metadata": {},
     "output_type": "execute_result"
    }
   ],
   "source": [
    "predictions"
   ]
  },
  {
   "cell_type": "code",
   "execution_count": 31,
   "metadata": {},
   "outputs": [
    {
     "name": "stdout",
     "output_type": "stream",
     "text": [
      "Accuracy Score 0.55836\n",
      "F1 Score 0.6571189002298088\n"
     ]
    }
   ],
   "source": [
    "print(f'Accuracy Score {accuracy_score(y_test,predictions)}')\n",
    "print(f'F1 Score {f1_score(y_test,predictions)}')"
   ]
  },
  {
   "cell_type": "markdown",
   "metadata": {},
   "source": [
    "# test the model on articles"
   ]
  },
  {
   "cell_type": "code",
   "execution_count": 17,
   "metadata": {},
   "outputs": [],
   "source": [
    "article_json=r'E:\\iiit\\Sem3\\Information Extraction And Retrieval\\major_project\\data\\json\\by_articles.json'"
   ]
  },
  {
   "cell_type": "code",
   "execution_count": 22,
   "metadata": {},
   "outputs": [],
   "source": [
    "df_article=pd.read_json(article_json).T"
   ]
  },
  {
   "cell_type": "code",
   "execution_count": 26,
   "metadata": {},
   "outputs": [
    {
     "data": {
      "text/plain": [
       "Index(['hyperpartisan', 'url', 'labeled-by', 'published-at', 'title', 'text'], dtype='object')"
      ]
     },
     "execution_count": 26,
     "metadata": {},
     "output_type": "execute_result"
    }
   ],
   "source": [
    "df_article.columns"
   ]
  },
  {
   "cell_type": "code",
   "execution_count": 28,
   "metadata": {},
   "outputs": [],
   "source": [
    "encoded_article=tokenizer.texts_to_sequences(df_article['text'].values.tolist())"
   ]
  },
  {
   "cell_type": "code",
   "execution_count": 29,
   "metadata": {},
   "outputs": [],
   "source": [
    "padded_article=pad_sequences(encoded_article,maxlen=max_length,padding='post')"
   ]
  },
  {
   "cell_type": "code",
   "execution_count": 30,
   "metadata": {},
   "outputs": [],
   "source": [
    "y_article=le.transform(df_article['hyperpartisan'].values)"
   ]
  },
  {
   "cell_type": "code",
   "execution_count": 32,
   "metadata": {},
   "outputs": [],
   "source": [
    "from tensorflow.keras.models import load_model\n",
    "model=load_model('best_model_glove_1000.h5')"
   ]
  },
  {
   "cell_type": "code",
   "execution_count": 40,
   "metadata": {},
   "outputs": [],
   "source": [
    "article_preds=model.predict_classes(padded_article)"
   ]
  },
  {
   "cell_type": "code",
   "execution_count": 41,
   "metadata": {},
   "outputs": [
    {
     "name": "stdout",
     "output_type": "stream",
     "text": [
      "Accuracy Score 0.5193798449612403\n",
      "F1 Score 0.5799457994579945\n"
     ]
    }
   ],
   "source": [
    "from sklearn.metrics import accuracy_score,f1_score\n",
    "print(f'Accuracy Score {accuracy_score(y_article,article_preds)}')\n",
    "print(f'F1 Score {f1_score(y_article,article_preds)}')"
   ]
  },
  {
   "cell_type": "code",
   "execution_count": null,
   "metadata": {},
   "outputs": [],
   "source": []
  },
  {
   "cell_type": "markdown",
   "metadata": {},
   "source": [
    "# reverse --- train on validation data and test on train data"
   ]
  },
  {
   "cell_type": "code",
   "execution_count": null,
   "metadata": {},
   "outputs": [],
   "source": [
    "x=np.load('padded_test.npy')"
   ]
  },
  {
   "cell_type": "code",
   "execution_count": null,
   "metadata": {},
   "outputs": [],
   "source": [
    "from sklearn.preprocessing import OneHotEncoder,LabelEncoder\n",
    "labels=np.load('hyperpartisan_labels_test.npy',allow_pickle=True)\n",
    "le=LabelEncoder()\n",
    "y=le.fit_transform(labels)"
   ]
  },
  {
   "cell_type": "code",
   "execution_count": 19,
   "metadata": {},
   "outputs": [],
   "source": [
    "vector_size=200\n",
    "reverse_model=Sequential()\n",
    "\n",
    "reverse_model.add(Input(shape=(1000,), dtype='int32'))\n",
    "\n",
    "reverse_model.add(Embedding(vocab_size,vector_size,input_length=max_length,weights=[embedding_matrix],trainable=False))\n",
    "\n",
    "reverse_model.add(Conv1D(128,5,activation='relu'))\n",
    "reverse_model.add(MaxPooling1D(5))\n",
    "\n",
    "reverse_model.add(Conv1D(128,5,activation='relu'))\n",
    "reverse_model.add(MaxPooling1D(5))\n",
    "\n",
    "reverse_model.add(Conv1D(64,5,activation='relu'))\n",
    "reverse_model.add(GlobalMaxPooling1D())\n",
    "\n",
    "\n",
    "reverse_model.add(Dense(128,activation='relu'))\n",
    "reverse_model.add(Dropout(0.4))\n",
    "\n",
    "\n",
    "reverse_model.add(Dense(64,activation='relu'))\n",
    "reverse_model.add(Dropout(0.4))\n",
    "\n",
    "reverse_model.add(Dense(32,activation='relu'))\n",
    "\n",
    "\n",
    "reverse_model.add(Dense(1,activation='sigmoid'))\n",
    "\n",
    "reverse_model.compile(optimizer='adam',loss='binary_crossentropy',metrics=['accuracy'])\n"
   ]
  },
  {
   "cell_type": "code",
   "execution_count": 13,
   "metadata": {},
   "outputs": [],
   "source": [
    "from sklearn.model_selection import train_test_split\n",
    "\n",
    "x_train, x_valid, y_train, y_valid = train_test_split(x,y, test_size=0.2, shuffle= True)"
   ]
  },
  {
   "cell_type": "code",
   "execution_count": 14,
   "metadata": {},
   "outputs": [],
   "source": [
    "x=None\n",
    "y=None"
   ]
  },
  {
   "cell_type": "code",
   "execution_count": 16,
   "metadata": {},
   "outputs": [],
   "source": [
    "from tensorflow.keras.callbacks import EarlyStopping, ModelCheckpoint"
   ]
  },
  {
   "cell_type": "code",
   "execution_count": 17,
   "metadata": {},
   "outputs": [],
   "source": [
    "res = EarlyStopping(monitor='val_loss', mode='min', verbose=1, patience=2)\n",
    "rmc = ModelCheckpoint('reverse_best_model_glove_1000.h5', monitor='val_accuracy', mode='max', verbose=1, save_best_only=True)"
   ]
  },
  {
   "cell_type": "code",
   "execution_count": 20,
   "metadata": {},
   "outputs": [
    {
     "name": "stdout",
     "output_type": "stream",
     "text": [
      "Epoch 1/10\n",
      "1873/1875 [============================>.] - ETA: 0s - loss: 0.4066 - accuracy: 0.7889\n",
      "Epoch 00001: val_accuracy improved from -inf to 0.85253, saving model to reverse_best_model_glove_1000.h5\n",
      "1875/1875 [==============================] - 54s 29ms/step - loss: 0.4065 - accuracy: 0.7890 - val_loss: 0.3118 - val_accuracy: 0.8525\n",
      "Epoch 2/10\n",
      "1874/1875 [============================>.] - ETA: 0s - loss: 0.2789 - accuracy: 0.8750\n",
      "Epoch 00002: val_accuracy improved from 0.85253 to 0.87500, saving model to reverse_best_model_glove_1000.h5\n",
      "1875/1875 [==============================] - 54s 29ms/step - loss: 0.2789 - accuracy: 0.8750 - val_loss: 0.2770 - val_accuracy: 0.8750\n",
      "Epoch 3/10\n",
      "1873/1875 [============================>.] - ETA: 0s - loss: 0.2313 - accuracy: 0.8990\n",
      "Epoch 00003: val_accuracy improved from 0.87500 to 0.87980, saving model to reverse_best_model_glove_1000.h5\n",
      "1875/1875 [==============================] - 54s 29ms/step - loss: 0.2313 - accuracy: 0.8990 - val_loss: 0.2709 - val_accuracy: 0.8798\n",
      "Epoch 4/10\n",
      "1873/1875 [============================>.] - ETA: 0s - loss: 0.1920 - accuracy: 0.9196\n",
      "Epoch 00004: val_accuracy did not improve from 0.87980\n",
      "1875/1875 [==============================] - 49s 26ms/step - loss: 0.1920 - accuracy: 0.9196 - val_loss: 0.2985 - val_accuracy: 0.8738\n",
      "Epoch 5/10\n",
      "1873/1875 [============================>.] - ETA: 0s - loss: 0.1569 - accuracy: 0.9352\n",
      "Epoch 00005: val_accuracy did not improve from 0.87980\n",
      "1875/1875 [==============================] - 49s 26ms/step - loss: 0.1570 - accuracy: 0.9352 - val_loss: 0.2948 - val_accuracy: 0.8786\n",
      "Epoch 00005: early stopping\n"
     ]
    }
   ],
   "source": [
    "history=reverse_model.fit(x_train,y_train,validation_data=(x_valid,y_valid),epochs=10,batch_size=64,callbacks=[res,rmc])"
   ]
  },
  {
   "cell_type": "code",
   "execution_count": 22,
   "metadata": {},
   "outputs": [
    {
     "data": {
      "image/png": "[encoded data removed]",
      "text/plain": [
       "<Figure size 432x288 with 1 Axes>"
      ]
     },
     "metadata": {
      "needs_background": "light"
     },
     "output_type": "display_data"
    },
    {
     "data": {
      "image/png": "[encoded data removed]",
      "text/plain": [
       "<Figure size 432x288 with 1 Axes>"
      ]
     },
     "metadata": {
      "needs_background": "light"
     },
     "output_type": "display_data"
    }
   ],
   "source": [
    "import matplotlib.pyplot as plt\n",
    "\n",
    "# summarize history for accuracy\n",
    "plt.plot(history.history['accuracy'])\n",
    "plt.plot(history.history['val_accuracy'])\n",
    "plt.title('model accuracy')\n",
    "plt.ylabel('accuracy')\n",
    "plt.xlabel('epoch')\n",
    "plt.legend(['train', 'validation'], loc='upper left')\n",
    "plt.show()\n",
    "\n",
    "# summarize history for loss\n",
    "plt.plot(history.history['loss'])\n",
    "plt.plot(history.history['val_loss'])\n",
    "plt.title('model loss')\n",
    "plt.ylabel('loss')\n",
    "plt.xlabel('epoch')\n",
    "plt.legend(['train', 'validation'], loc='upper left')\n",
    "plt.show()"
   ]
  },
  {
   "cell_type": "code",
   "execution_count": 16,
   "metadata": {},
   "outputs": [],
   "source": [
    "# reverse_model.save('reverse_glove_1000.h5')"
   ]
  },
  {
   "cell_type": "markdown",
   "metadata": {},
   "source": [
    "# reverse test"
   ]
  },
  {
   "cell_type": "code",
   "execution_count": 23,
   "metadata": {},
   "outputs": [],
   "source": [
    "from tensorflow.keras.models import load_model\n",
    "reverse_model=load_model('reverse_best_model_glove_1000.h5')"
   ]
  },
  {
   "cell_type": "code",
   "execution_count": 24,
   "metadata": {},
   "outputs": [],
   "source": [
    "x_test=np.load('padded_train.npy')\n",
    "y_test=le.transform(np.load('hyperpartisan_labels_train.npy',allow_pickle=True))"
   ]
  },
  {
   "cell_type": "code",
   "execution_count": 25,
   "metadata": {},
   "outputs": [
    {
     "name": "stdout",
     "output_type": "stream",
     "text": [
      "WARNING:tensorflow:From <ipython-input-25-7f7b91fb6342>:1: Sequential.predict_classes (from tensorflow.python.keras.engine.sequential) is deprecated and will be removed after 2021-01-01.\n",
      "Instructions for updating:\n",
      "Please use instead:* `np.argmax(model.predict(x), axis=-1)`,   if your model does multi-class classification   (e.g. if it uses a `softmax` last-layer activation).* `(model.predict(x) > 0.5).astype(\"int32\")`,   if your model does binary classification   (e.g. if it uses a `sigmoid` last-layer activation).\n"
     ]
    }
   ],
   "source": [
    "predictions=reverse_model.predict_classes(x_test)"
   ]
  },
  {
   "cell_type": "code",
   "execution_count": 26,
   "metadata": {},
   "outputs": [],
   "source": [
    "from sklearn.metrics import accuracy_score,f1_score"
   ]
  },
  {
   "cell_type": "code",
   "execution_count": 27,
   "metadata": {},
   "outputs": [
    {
     "name": "stdout",
     "output_type": "stream",
     "text": [
      "Accuracy Score 0.5752616666666667\n",
      "F1 Score 0.6001126650943767\n"
     ]
    }
   ],
   "source": [
    "print(f'Accuracy Score {accuracy_score(y_test,predictions)}')\n",
    "print(f'F1 Score {f1_score(y_test,predictions)}')"
   ]
  },
  {
   "cell_type": "code",
   "execution_count": null,
   "metadata": {},
   "outputs": [],
   "source": []
  },
  {
   "cell_type": "markdown",
   "metadata": {},
   "source": [
    "# Bias detection"
   ]
  },
  {
   "cell_type": "code",
   "execution_count": 9,
   "metadata": {},
   "outputs": [],
   "source": [
    "x=np.load('padded_train.npy')"
   ]
  },
  {
   "cell_type": "code",
   "execution_count": 10,
   "metadata": {},
   "outputs": [],
   "source": [
    "from sklearn.preprocessing import OneHotEncoder,LabelEncoder\n",
    "labels=np.load('bias_labels_train.npy',allow_pickle=True)\n",
    "le_bias=LabelEncoder()\n",
    "y=le_bias.fit_transform(labels)"
   ]
  },
  {
   "cell_type": "code",
   "execution_count": 11,
   "metadata": {},
   "outputs": [
    {
     "data": {
      "text/plain": [
       "<matplotlib.axes._subplots.AxesSubplot at 0x1d2059f5b88>"
      ]
     },
     "execution_count": 11,
     "metadata": {},
     "output_type": "execute_result"
    },
    {
     "data": {
      "image/png": "[encoded data removed]",
      "text/plain": [
       "<Figure size 432x288 with 1 Axes>"
      ]
     },
     "metadata": {},
     "output_type": "display_data"
    }
   ],
   "source": [
    "import seaborn as sns\n",
    "sns.set()\n",
    "sns.countplot(labels)"
   ]
  },
  {
   "cell_type": "code",
   "execution_count": 12,
   "metadata": {},
   "outputs": [
    {
     "data": {
      "text/plain": [
       "(array([0, 1, 2, 3, 4]),\n",
       " array([187114, 150000,  70053, 150000,  42833], dtype=int64))"
      ]
     },
     "execution_count": 12,
     "metadata": {},
     "output_type": "execute_result"
    }
   ],
   "source": [
    "np.unique(y,return_counts=True)"
   ]
  },
  {
   "cell_type": "code",
   "execution_count": 13,
   "metadata": {},
   "outputs": [
    {
     "data": {
      "text/plain": [
       "array(['least', 'left', 'left-center', 'right', 'right-center'],\n",
       "      dtype=object)"
      ]
     },
     "execution_count": 13,
     "metadata": {},
     "output_type": "execute_result"
    }
   ],
   "source": [
    "le_bias.classes_"
   ]
  },
  {
   "cell_type": "code",
   "execution_count": 14,
   "metadata": {},
   "outputs": [],
   "source": [
    "from tensorflow import keras\n",
    "\n",
    "lr_schedule = keras.optimizers.schedules.ExponentialDecay(\n",
    "    initial_learning_rate=1e-2,\n",
    "    decay_steps=10000,\n",
    "    decay_rate=0.9)\n",
    "optimizer = keras.optimizers.SGD(learning_rate=lr_schedule,momentum=0.92)"
   ]
  },
  {
   "cell_type": "code",
   "execution_count": 15,
   "metadata": {},
   "outputs": [],
   "source": [
    "vector_size=200\n",
    "bias_model=Sequential()\n",
    "\n",
    "bias_model.add(Input(shape=(1000,), dtype='int32'))\n",
    "\n",
    "bias_model.add(Embedding(vocab_size,vector_size,input_length=max_length,weights=[embedding_matrix],trainable=False))\n",
    "\n",
    "bias_model.add(Conv1D(128,5,activation='relu'))\n",
    "bias_model.add(MaxPooling1D(5))\n",
    "\n",
    "bias_model.add(Conv1D(128,5,activation='relu'))\n",
    "bias_model.add(MaxPooling1D(5))\n",
    "\n",
    "bias_model.add(Conv1D(64,5,activation='relu'))\n",
    "bias_model.add(GlobalMaxPooling1D())\n",
    "\n",
    "\n",
    "bias_model.add(Dense(128,activation='relu'))\n",
    "bias_model.add(Dropout(0.4))\n",
    "\n",
    "\n",
    "bias_model.add(Dense(64,activation='relu'))\n",
    "bias_model.add(Dropout(0.4))\n",
    "\n",
    "bias_model.add(Dense(32,activation='relu'))\n",
    "\n",
    "\n",
    "bias_model.add(Dense(5,activation='sigmoid'))\n",
    "\n",
    "bias_model.compile(optimizer=optimizer,loss='sparse_categorical_crossentropy',metrics=['accuracy'])\n"
   ]
  },
  {
   "cell_type": "code",
   "execution_count": 16,
   "metadata": {},
   "outputs": [
    {
     "name": "stdout",
     "output_type": "stream",
     "text": [
      "Model: \"sequential\"\n",
      "_________________________________________________________________\n",
      "Layer (type)                 Output Shape              Param #   \n",
      "=================================================================\n",
      "embedding (Embedding)        (None, 1000, 200)         120791000 \n",
      "_________________________________________________________________\n",
      "conv1d (Conv1D)              (None, 996, 128)          128128    \n",
      "_________________________________________________________________\n",
      "max_pooling1d (MaxPooling1D) (None, 199, 128)          0         \n",
      "_________________________________________________________________\n",
      "conv1d_1 (Conv1D)            (None, 195, 128)          82048     \n",
      "_________________________________________________________________\n",
      "max_pooling1d_1 (MaxPooling1 (None, 39, 128)           0         \n",
      "_________________________________________________________________\n",
      "conv1d_2 (Conv1D)            (None, 35, 64)            41024     \n",
      "_________________________________________________________________\n",
      "global_max_pooling1d (Global (None, 64)                0         \n",
      "_________________________________________________________________\n",
      "dense (Dense)                (None, 128)               8320      \n",
      "_________________________________________________________________\n",
      "dropout (Dropout)            (None, 128)               0         \n",
      "_________________________________________________________________\n",
      "dense_1 (Dense)              (None, 64)                8256      \n",
      "_________________________________________________________________\n",
      "dropout_1 (Dropout)          (None, 64)                0         \n",
      "_________________________________________________________________\n",
      "dense_2 (Dense)              (None, 32)                2080      \n",
      "_________________________________________________________________\n",
      "dense_3 (Dense)              (None, 5)                 165       \n",
      "=================================================================\n",
      "Total params: 121,061,021\n",
      "Trainable params: 270,021\n",
      "Non-trainable params: 120,791,000\n",
      "_________________________________________________________________\n"
     ]
    }
   ],
   "source": [
    "bias_model.summary()"
   ]
  },
  {
   "cell_type": "code",
   "execution_count": 17,
   "metadata": {},
   "outputs": [],
   "source": [
    "from sklearn.model_selection import train_test_split\n",
    "\n",
    "x_train, x_valid, y_train, y_valid = train_test_split(x,y, test_size=0.2, shuffle= True,stratify=y)"
   ]
  },
  {
   "cell_type": "code",
   "execution_count": 18,
   "metadata": {},
   "outputs": [],
   "source": [
    "x=None\n",
    "y=None"
   ]
  },
  {
   "cell_type": "code",
   "execution_count": 19,
   "metadata": {},
   "outputs": [
    {
     "data": {
      "text/plain": [
       "(480000, 1000)"
      ]
     },
     "execution_count": 19,
     "metadata": {},
     "output_type": "execute_result"
    }
   ],
   "source": [
    "x_train.shape"
   ]
  },
  {
   "cell_type": "code",
   "execution_count": 20,
   "metadata": {},
   "outputs": [],
   "source": [
    "from tensorflow.keras.callbacks import EarlyStopping, ModelCheckpoint"
   ]
  },
  {
   "cell_type": "code",
   "execution_count": 21,
   "metadata": {},
   "outputs": [],
   "source": [
    "bes = EarlyStopping(monitor='val_loss', mode='min', verbose=1, patience=2)\n",
    "bmc = ModelCheckpoint('bias_best_model_glove_1000.h5', monitor='val_accuracy', mode='max', verbose=1, save_best_only=True)"
   ]
  },
  {
   "cell_type": "code",
   "execution_count": 22,
   "metadata": {},
   "outputs": [
    {
     "name": "stdout",
     "output_type": "stream",
     "text": [
      "Epoch 1/20\n",
      "3750/3750 [==============================] - ETA: 0s - loss: 0.7982 - accuracy: 0.6835\n",
      "Epoch 00001: val_accuracy improved from -inf to 0.81630, saving model to bias_best_model_glove_1000.h5\n",
      "3750/3750 [==============================] - 185s 49ms/step - loss: 0.7982 - accuracy: 0.6835 - val_loss: 0.4947 - val_accuracy: 0.8163\n",
      "Epoch 2/20\n",
      "3750/3750 [==============================] - ETA: 0s - loss: 0.4745 - accuracy: 0.8250\n",
      "Epoch 00002: val_accuracy improved from 0.81630 to 0.83683, saving model to bias_best_model_glove_1000.h5\n",
      "3750/3750 [==============================] - 187s 50ms/step - loss: 0.4745 - accuracy: 0.8250 - val_loss: 0.4340 - val_accuracy: 0.8368\n",
      "Epoch 3/20\n",
      "3749/3750 [============================>.] - ETA: 0s - loss: 0.4112 - accuracy: 0.8503\n",
      "Epoch 00003: val_accuracy improved from 0.83683 to 0.85920, saving model to bias_best_model_glove_1000.h5\n",
      "3750/3750 [==============================] - 185s 49ms/step - loss: 0.4111 - accuracy: 0.8503 - val_loss: 0.3813 - val_accuracy: 0.8592\n",
      "Epoch 4/20\n",
      "3749/3750 [============================>.] - ETA: 0s - loss: 0.3748 - accuracy: 0.8641\n",
      "Epoch 00004: val_accuracy improved from 0.85920 to 0.86473, saving model to bias_best_model_glove_1000.h5\n",
      "3750/3750 [==============================] - 187s 50ms/step - loss: 0.3748 - accuracy: 0.8641 - val_loss: 0.3672 - val_accuracy: 0.8647\n",
      "Epoch 5/20\n",
      "3750/3750 [==============================] - ETA: 0s - loss: 0.3499 - accuracy: 0.8737\n",
      "Epoch 00005: val_accuracy improved from 0.86473 to 0.86947, saving model to bias_best_model_glove_1000.h5\n",
      "3750/3750 [==============================] - 186s 50ms/step - loss: 0.3499 - accuracy: 0.8737 - val_loss: 0.3611 - val_accuracy: 0.8695\n",
      "Epoch 6/20\n",
      "3750/3750 [==============================] - ETA: 0s - loss: 0.3285 - accuracy: 0.8820\n",
      "Epoch 00006: val_accuracy improved from 0.86947 to 0.87358, saving model to bias_best_model_glove_1000.h5\n",
      "3750/3750 [==============================] - 188s 50ms/step - loss: 0.3285 - accuracy: 0.8820 - val_loss: 0.3490 - val_accuracy: 0.8736\n",
      "Epoch 7/20\n",
      "3749/3750 [============================>.] - ETA: 0s - loss: 0.3099 - accuracy: 0.8889\n",
      "Epoch 00007: val_accuracy improved from 0.87358 to 0.87558, saving model to bias_best_model_glove_1000.h5\n",
      "3750/3750 [==============================] - 185s 49ms/step - loss: 0.3099 - accuracy: 0.8889 - val_loss: 0.3447 - val_accuracy: 0.8756\n",
      "Epoch 8/20\n",
      "3750/3750 [==============================] - ETA: 0s - loss: 0.2933 - accuracy: 0.8954\n",
      "Epoch 00008: val_accuracy improved from 0.87558 to 0.87605, saving model to bias_best_model_glove_1000.h5\n",
      "3750/3750 [==============================] - 188s 50ms/step - loss: 0.2933 - accuracy: 0.8954 - val_loss: 0.3480 - val_accuracy: 0.8760\n",
      "Epoch 9/20\n",
      "3750/3750 [==============================] - ETA: 0s - loss: 0.2801 - accuracy: 0.9005\n",
      "Epoch 00009: val_accuracy improved from 0.87605 to 0.87607, saving model to bias_best_model_glove_1000.h5\n",
      "3750/3750 [==============================] - 185s 49ms/step - loss: 0.2801 - accuracy: 0.9005 - val_loss: 0.3417 - val_accuracy: 0.8761\n",
      "Epoch 10/20\n",
      "3749/3750 [============================>.] - ETA: 0s - loss: 0.2679 - accuracy: 0.9047\n",
      "Epoch 00010: val_accuracy improved from 0.87607 to 0.87913, saving model to bias_best_model_glove_1000.h5\n",
      "3750/3750 [==============================] - 187s 50ms/step - loss: 0.2679 - accuracy: 0.9047 - val_loss: 0.3381 - val_accuracy: 0.8791\n",
      "Epoch 11/20\n",
      "3749/3750 [============================>.] - ETA: 0s - loss: 0.2544 - accuracy: 0.9100\n",
      "Epoch 00011: val_accuracy improved from 0.87913 to 0.87945, saving model to bias_best_model_glove_1000.h5\n",
      "3750/3750 [==============================] - 186s 50ms/step - loss: 0.2544 - accuracy: 0.9100 - val_loss: 0.3386 - val_accuracy: 0.8795\n",
      "Epoch 12/20\n",
      "3749/3750 [============================>.] - ETA: 0s - loss: 0.2436 - accuracy: 0.9139\n",
      "Epoch 00012: val_accuracy did not improve from 0.87945\n",
      "3750/3750 [==============================] - 183s 49ms/step - loss: 0.2436 - accuracy: 0.9139 - val_loss: 0.3424 - val_accuracy: 0.8769\n",
      "Epoch 00012: early stopping\n"
     ]
    }
   ],
   "source": [
    "history=bias_model.fit(x_train,y_train,validation_data=(x_valid,y_valid),epochs=20,batch_size=128,callbacks=[bes,bmc])"
   ]
  },
  {
   "cell_type": "code",
   "execution_count": 24,
   "metadata": {},
   "outputs": [
    {
     "data": {
      "image/png": "[encoded data removed]",
      "text/plain": [
       "<Figure size 432x288 with 1 Axes>"
      ]
     },
     "metadata": {},
     "output_type": "display_data"
    },
    {
     "data": {
      "image/png": "[encoded data removed]",
      "text/plain": [
       "<Figure size 432x288 with 1 Axes>"
      ]
     },
     "metadata": {},
     "output_type": "display_data"
    }
   ],
   "source": [
    "import matplotlib.pyplot as plt\n",
    "\n",
    "# summarize history for accuracy\n",
    "plt.plot(history.history['accuracy'])\n",
    "plt.plot(history.history['val_accuracy'])\n",
    "plt.title('model accuracy')\n",
    "plt.ylabel('accuracy')\n",
    "plt.xlabel('epoch')\n",
    "plt.legend(['train', 'validation'], loc='upper left')\n",
    "plt.show()\n",
    "\n",
    "# summarize history for loss\n",
    "plt.plot(history.history['loss'])\n",
    "plt.plot(history.history['val_loss'])\n",
    "plt.title('model loss')\n",
    "plt.ylabel('loss')\n",
    "plt.xlabel('epoch')\n",
    "plt.legend(['train', 'validation'], loc='upper left')\n",
    "plt.show()"
   ]
  },
  {
   "cell_type": "code",
   "execution_count": 22,
   "metadata": {},
   "outputs": [],
   "source": [
    "bias_model.save('bias_glove_1000.h5')"
   ]
  },
  {
   "cell_type": "markdown",
   "metadata": {},
   "source": [
    "# test"
   ]
  },
  {
   "cell_type": "code",
   "execution_count": 25,
   "metadata": {},
   "outputs": [],
   "source": [
    "from tensorflow.keras.models import load_model\n",
    "bias_model=load_model('bias_best_model_glove_1000.h5')"
   ]
  },
  {
   "cell_type": "code",
   "execution_count": 26,
   "metadata": {},
   "outputs": [],
   "source": [
    "x_test=np.load('padded_test.npy')\n",
    "y_test=le_bias.transform(np.load('bias_labels_test.npy',allow_pickle=True))"
   ]
  },
  {
   "cell_type": "code",
   "execution_count": 27,
   "metadata": {},
   "outputs": [],
   "source": [
    "ynp=np.load('bias_labels_test.npy',allow_pickle=True)"
   ]
  },
  {
   "cell_type": "code",
   "execution_count": 28,
   "metadata": {},
   "outputs": [
    {
     "name": "stdout",
     "output_type": "stream",
     "text": [
      "WARNING:tensorflow:From <ipython-input-28-87d2e1200ffd>:1: Sequential.predict_classes (from tensorflow.python.keras.engine.sequential) is deprecated and will be removed after 2021-01-01.\n",
      "Instructions for updating:\n",
      "Please use instead:* `np.argmax(model.predict(x), axis=-1)`,   if your model does multi-class classification   (e.g. if it uses a `softmax` last-layer activation).* `(model.predict(x) > 0.5).astype(\"int32\")`,   if your model does binary classification   (e.g. if it uses a `sigmoid` last-layer activation).\n"
     ]
    }
   ],
   "source": [
    "predictions=bias_model.predict_classes(x_test)"
   ]
  },
  {
   "cell_type": "code",
   "execution_count": 29,
   "metadata": {},
   "outputs": [],
   "source": [
    "from sklearn.metrics import accuracy_score,f1_score"
   ]
  },
  {
   "cell_type": "code",
   "execution_count": 34,
   "metadata": {},
   "outputs": [
    {
     "name": "stdout",
     "output_type": "stream",
     "text": [
      "Accuracy Score 0.3099133333333333\n",
      "F1 Score\n"
     ]
    }
   ],
   "source": [
    "print(f'Accuracy Score {accuracy_score(y_test,predictions)}')\n",
    "print(f'F1 Score')"
   ]
  },
  {
   "cell_type": "code",
   "execution_count": 35,
   "metadata": {},
   "outputs": [
    {
     "data": {
      "text/plain": [
       "0.28923609302173886"
      ]
     },
     "execution_count": 35,
     "metadata": {},
     "output_type": "execute_result"
    }
   ],
   "source": [
    "f1_score(y_test,predictions,average='weighted')"
   ]
  },
  {
   "cell_type": "code",
   "execution_count": 32,
   "metadata": {},
   "outputs": [
    {
     "data": {
      "text/plain": [
       "(array([0, 1, 2, 3, 4]),\n",
       " array([38296, 37500, 23473, 37500, 13231], dtype=int64))"
      ]
     },
     "execution_count": 32,
     "metadata": {},
     "output_type": "execute_result"
    }
   ],
   "source": [
    "np.unique(y_test,return_counts=True)"
   ]
  },
  {
   "cell_type": "code",
   "execution_count": 33,
   "metadata": {},
   "outputs": [
    {
     "data": {
      "text/plain": [
       "(array([0, 1, 2, 3, 4], dtype=int64),\n",
       " array([12255, 77218, 25426, 30787,  4314], dtype=int64))"
      ]
     },
     "execution_count": 33,
     "metadata": {},
     "output_type": "execute_result"
    }
   ],
   "source": [
    "np.unique(predictions,return_counts=True)"
   ]
  },
  {
   "cell_type": "code",
   "execution_count": 36,
   "metadata": {},
   "outputs": [
    {
     "data": {
      "text/plain": [
       "array(['least'], dtype=object)"
      ]
     },
     "execution_count": 36,
     "metadata": {},
     "output_type": "execute_result"
    }
   ],
   "source": [
    "le_bias.inverse_transform([0])"
   ]
  },
  {
   "cell_type": "code",
   "execution_count": 37,
   "metadata": {},
   "outputs": [
    {
     "data": {
      "text/plain": [
       "array(['left'], dtype=object)"
      ]
     },
     "execution_count": 37,
     "metadata": {},
     "output_type": "execute_result"
    }
   ],
   "source": [
    "le_bias.inverse_transform([1])"
   ]
  },
  {
   "cell_type": "code",
   "execution_count": 38,
   "metadata": {},
   "outputs": [
    {
     "data": {
      "text/plain": [
       "array(['left-center'], dtype=object)"
      ]
     },
     "execution_count": 38,
     "metadata": {},
     "output_type": "execute_result"
    }
   ],
   "source": [
    "le_bias.inverse_transform([2])"
   ]
  },
  {
   "cell_type": "code",
   "execution_count": 39,
   "metadata": {},
   "outputs": [
    {
     "data": {
      "text/plain": [
       "array(['right'], dtype=object)"
      ]
     },
     "execution_count": 39,
     "metadata": {},
     "output_type": "execute_result"
    }
   ],
   "source": [
    "le_bias.inverse_transform([3])"
   ]
  },
  {
   "cell_type": "code",
   "execution_count": 40,
   "metadata": {},
   "outputs": [
    {
     "data": {
      "text/plain": [
       "array(['right-center'], dtype=object)"
      ]
     },
     "execution_count": 40,
     "metadata": {},
     "output_type": "execute_result"
    }
   ],
   "source": [
    "le_bias.inverse_transform([4])"
   ]
  },
  {
   "cell_type": "code",
   "execution_count": null,
   "metadata": {},
   "outputs": [],
   "source": []
  },
  {
   "cell_type": "code",
   "execution_count": null,
   "metadata": {},
   "outputs": [],
   "source": []
  },
  {
   "cell_type": "code",
   "execution_count": null,
   "metadata": {},
   "outputs": [],
   "source": []
  },
  {
   "cell_type": "code",
   "execution_count": null,
   "metadata": {},
   "outputs": [],
   "source": []
  },
  {
   "cell_type": "code",
   "execution_count": null,
   "metadata": {},
   "outputs": [],
   "source": []
  },
  {
   "cell_type": "code",
   "execution_count": null,
   "metadata": {},
   "outputs": [],
   "source": []
  },
  {
   "cell_type": "code",
   "execution_count": null,
   "metadata": {},
   "outputs": [],
   "source": []
  },
  {
   "cell_type": "code",
   "execution_count": null,
   "metadata": {},
   "outputs": [],
   "source": []
  },
  {
   "cell_type": "code",
   "execution_count": null,
   "metadata": {},
   "outputs": [],
   "source": []
  },
  {
   "cell_type": "code",
   "execution_count": null,
   "metadata": {},
   "outputs": [],
   "source": []
  },
  {
   "cell_type": "code",
   "execution_count": null,
   "metadata": {},
   "outputs": [],
   "source": []
  }
 ],
 "metadata": {
  "kernelspec": {
   "display_name": "Python 3",
   "language": "python",
   "name": "python3"
  },
  "language_info": {
   "codemirror_mode": {
    "name": "ipython",
    "version": 3
   },
   "file_extension": ".py",
   "mimetype": "text/x-python",
   "name": "python",
   "nbconvert_exporter": "python",
   "pygments_lexer": "ipython3",
   "version": "3.7.4"
  }
 },
 "nbformat": 4,
 "nbformat_minor": 4
}
