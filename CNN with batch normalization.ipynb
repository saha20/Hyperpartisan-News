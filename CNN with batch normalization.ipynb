{
 "cells": [
  {
   "cell_type": "code",
   "execution_count": 1,
   "metadata": {},
   "outputs": [],
   "source": [
    "import pandas as pd\n",
    "import numpy as np\n",
    "from tqdm import tqdm\n",
    "from time import time"
   ]
  },
  {
   "cell_type": "code",
   "execution_count": 2,
   "metadata": {},
   "outputs": [],
   "source": [
    "from tensorflow.keras.preprocessing.text import Tokenizer\n",
    "from tensorflow.keras.preprocessing.sequence import pad_sequences\n",
    "from tensorflow.keras.models import Sequential\n",
    "from tensorflow.keras.layers import Dense,Flatten,Embedding,Activation,Dropout,Input,BatchNormalization,Concatenate\n",
    "from tensorflow.keras.layers import Conv1D,MaxPooling1D,GlobalMaxPooling1D,Bidirectional,LSTM\n",
    "from tensorflow.keras.optimizers import Adam"
   ]
  },
  {
   "cell_type": "code",
   "execution_count": 3,
   "metadata": {},
   "outputs": [],
   "source": [
    "from tensorflow.keras.models import Model"
   ]
  },
  {
   "cell_type": "code",
   "execution_count": 4,
   "metadata": {},
   "outputs": [],
   "source": [
    "embedding_path='D:\\datasets\\glove_twitter_50_100_200\\glove.twitter.27B.200d.txt'"
   ]
  },
  {
   "cell_type": "code",
   "execution_count": 5,
   "metadata": {},
   "outputs": [],
   "source": [
    "x=np.load('padded_train.npy')\n",
    "from sklearn.preprocessing import OneHotEncoder,LabelEncoder\n",
    "labels=np.load('hyperpartisan_labels_train.npy',allow_pickle=True)\n",
    "le=LabelEncoder()\n",
    "y=le.fit_transform(labels)"
   ]
  },
  {
   "cell_type": "code",
   "execution_count": 6,
   "metadata": {},
   "outputs": [],
   "source": [
    "import pickle\n",
    "with open('tokenizer_large.pickle', 'rb') as handle:\n",
    "    tokenizer = pickle.load(handle)\n",
    "\n",
    "vocab_size=len(tokenizer.word_index)+1\n",
    "\n",
    "max_length=1000"
   ]
  },
  {
   "cell_type": "code",
   "execution_count": 7,
   "metadata": {},
   "outputs": [],
   "source": [
    "glove_vectors={}\n",
    "embedding_path='D:\\datasets\\glove_twitter_50_100_200\\glove.twitter.27B.200d.txt'"
   ]
  },
  {
   "cell_type": "code",
   "execution_count": 8,
   "metadata": {},
   "outputs": [
    {
     "name": "stderr",
     "output_type": "stream",
     "text": [
      "1193514it [00:48, 24399.16it/s]"
     ]
    },
    {
     "name": "stdout",
     "output_type": "stream",
     "text": [
      "Wall time: 48.9 s\n"
     ]
    },
    {
     "name": "stderr",
     "output_type": "stream",
     "text": [
      "\n"
     ]
    }
   ],
   "source": [
    "%%time\n",
    "file=open(embedding_path,encoding='utf-8')\n",
    "for line in tqdm(file):\n",
    "    values=line.split()\n",
    "    word=values[0]\n",
    "    vectors=np.asarray(values[1:])\n",
    "    glove_vectors[word]=vectors"
   ]
  },
  {
   "cell_type": "code",
   "execution_count": 9,
   "metadata": {},
   "outputs": [],
   "source": [
    "embedding_matrix=np.zeros((vocab_size,200))\n",
    "nalist=[]\n",
    "for word,index in tokenizer.word_index.items():\n",
    "    vector=glove_vectors.get(word)\n",
    "    if(vector is not None):\n",
    "        embedding_matrix[index]=vector\n",
    "    else:\n",
    "        nalist.append(word)"
   ]
  },
  {
   "cell_type": "code",
   "execution_count": 10,
   "metadata": {},
   "outputs": [],
   "source": [
    "def conv1d_BN(max_len, embed_size,embedding_matrix):\n",
    " \n",
    "    filter_sizes = [2, 3, 4, 5, 6]\n",
    "    num_filters = 128\n",
    "    inputs = Input(shape=(max_len,), dtype='float32')\n",
    "    embeds=Embedding(vocab_size,200,input_length=max_length,weights=[embedding_matrix],trainable=False)(inputs)\n",
    "    \n",
    "    conv_0 = Conv1D(num_filters, kernel_size=(filter_sizes[0]))(embeds)\n",
    "    act_0 = Activation('relu')(conv_0)\n",
    "    bn_0 = BatchNormalization(momentum=0.7)(act_0)\n",
    "\n",
    "    conv_1 = Conv1D(num_filters, kernel_size=(filter_sizes[1]))(embeds)\n",
    "    act_1 = Activation('relu')(conv_1)\n",
    "    bn_1 = BatchNormalization(momentum=0.7)(act_1)\n",
    "\n",
    "    conv_2 = Conv1D(num_filters, kernel_size=(filter_sizes[2]))(embeds)\n",
    "    act_2 = Activation('relu')(conv_2)\n",
    "    bn_2 = BatchNormalization(momentum=0.7)(act_2)\n",
    "\n",
    "    conv_3 = Conv1D(num_filters, kernel_size=(filter_sizes[3]))(embeds)\n",
    "    act_3 = Activation('relu')(conv_3)\n",
    "    bn_3 = BatchNormalization(momentum=0.7)(act_3)\n",
    "\n",
    "    conv_4 = Conv1D(num_filters, kernel_size=(filter_sizes[4]))(embeds)\n",
    "    act_4 = Activation('relu')(conv_4)\n",
    "    bn_4 = BatchNormalization(momentum=0.7)(act_4)\n",
    "\n",
    "    maxpool_0 = MaxPooling1D(pool_size=(max_len - filter_sizes[0]))(bn_0)\n",
    "    maxpool_1 = MaxPooling1D(pool_size=(max_len - filter_sizes[1]))(bn_1)\n",
    "    maxpool_2 = MaxPooling1D(pool_size=(max_len - filter_sizes[2]))(bn_2)\n",
    "    maxpool_3 = MaxPooling1D(pool_size=(max_len - filter_sizes[3]))(bn_3)\n",
    "    maxpool_4 = MaxPooling1D(pool_size=(max_len - filter_sizes[4]))(bn_4)\n",
    "\n",
    "    concatenated_tensor = Concatenate()([maxpool_0, maxpool_1, maxpool_2, maxpool_3, maxpool_4])\n",
    "    flatten = Flatten()(concatenated_tensor)\n",
    "    output = Dense(units=1, activation='sigmoid')(flatten)\n",
    "\n",
    "    model = Model(inputs=inputs, outputs=output)\n",
    "    model.summary()\n",
    "    model.compile(loss='binary_crossentropy', metrics=['accuracy'], optimizer=Adam(learning_rate=0.001))\n",
    "    return model"
   ]
  },
  {
   "cell_type": "code",
   "execution_count": 11,
   "metadata": {},
   "outputs": [],
   "source": [
    "from tensorflow.keras.callbacks import EarlyStopping, ModelCheckpoint"
   ]
  },
  {
   "cell_type": "code",
   "execution_count": 12,
   "metadata": {},
   "outputs": [],
   "source": [
    "es = EarlyStopping(monitor='val_loss', mode='min', verbose=1, patience=2)\n",
    "mc = ModelCheckpoint('bn_model_glove_1000.h5', monitor='val_accuracy', mode='max', verbose=1, save_best_only=True)"
   ]
  },
  {
   "cell_type": "code",
   "execution_count": 13,
   "metadata": {},
   "outputs": [
    {
     "name": "stdout",
     "output_type": "stream",
     "text": [
      "Model: \"model\"\n",
      "__________________________________________________________________________________________________\n",
      "Layer (type)                    Output Shape         Param #     Connected to                     \n",
      "==================================================================================================\n",
      "input_1 (InputLayer)            [(None, 1000)]       0                                            \n",
      "__________________________________________________________________________________________________\n",
      "embedding (Embedding)           (None, 1000, 200)    120791000   input_1[0][0]                    \n",
      "__________________________________________________________________________________________________\n",
      "conv1d (Conv1D)                 (None, 999, 128)     51328       embedding[0][0]                  \n",
      "__________________________________________________________________________________________________\n",
      "conv1d_1 (Conv1D)               (None, 998, 128)     76928       embedding[0][0]                  \n",
      "__________________________________________________________________________________________________\n",
      "conv1d_2 (Conv1D)               (None, 997, 128)     102528      embedding[0][0]                  \n",
      "__________________________________________________________________________________________________\n",
      "conv1d_3 (Conv1D)               (None, 996, 128)     128128      embedding[0][0]                  \n",
      "__________________________________________________________________________________________________\n",
      "conv1d_4 (Conv1D)               (None, 995, 128)     153728      embedding[0][0]                  \n",
      "__________________________________________________________________________________________________\n",
      "activation (Activation)         (None, 999, 128)     0           conv1d[0][0]                     \n",
      "__________________________________________________________________________________________________\n",
      "activation_1 (Activation)       (None, 998, 128)     0           conv1d_1[0][0]                   \n",
      "__________________________________________________________________________________________________\n",
      "activation_2 (Activation)       (None, 997, 128)     0           conv1d_2[0][0]                   \n",
      "__________________________________________________________________________________________________\n",
      "activation_3 (Activation)       (None, 996, 128)     0           conv1d_3[0][0]                   \n",
      "__________________________________________________________________________________________________\n",
      "activation_4 (Activation)       (None, 995, 128)     0           conv1d_4[0][0]                   \n",
      "__________________________________________________________________________________________________\n",
      "batch_normalization (BatchNorma (None, 999, 128)     512         activation[0][0]                 \n",
      "__________________________________________________________________________________________________\n",
      "batch_normalization_1 (BatchNor (None, 998, 128)     512         activation_1[0][0]               \n",
      "__________________________________________________________________________________________________\n",
      "batch_normalization_2 (BatchNor (None, 997, 128)     512         activation_2[0][0]               \n",
      "__________________________________________________________________________________________________\n",
      "batch_normalization_3 (BatchNor (None, 996, 128)     512         activation_3[0][0]               \n",
      "__________________________________________________________________________________________________\n",
      "batch_normalization_4 (BatchNor (None, 995, 128)     512         activation_4[0][0]               \n",
      "__________________________________________________________________________________________________\n",
      "max_pooling1d (MaxPooling1D)    (None, 1, 128)       0           batch_normalization[0][0]        \n",
      "__________________________________________________________________________________________________\n",
      "max_pooling1d_1 (MaxPooling1D)  (None, 1, 128)       0           batch_normalization_1[0][0]      \n",
      "__________________________________________________________________________________________________\n",
      "max_pooling1d_2 (MaxPooling1D)  (None, 1, 128)       0           batch_normalization_2[0][0]      \n",
      "__________________________________________________________________________________________________\n",
      "max_pooling1d_3 (MaxPooling1D)  (None, 1, 128)       0           batch_normalization_3[0][0]      \n",
      "__________________________________________________________________________________________________\n",
      "max_pooling1d_4 (MaxPooling1D)  (None, 1, 128)       0           batch_normalization_4[0][0]      \n",
      "__________________________________________________________________________________________________\n",
      "concatenate (Concatenate)       (None, 1, 640)       0           max_pooling1d[0][0]              \n",
      "                                                                 max_pooling1d_1[0][0]            \n",
      "                                                                 max_pooling1d_2[0][0]            \n",
      "                                                                 max_pooling1d_3[0][0]            \n",
      "                                                                 max_pooling1d_4[0][0]            \n",
      "__________________________________________________________________________________________________\n",
      "flatten (Flatten)               (None, 640)          0           concatenate[0][0]                \n",
      "__________________________________________________________________________________________________\n",
      "dense (Dense)                   (None, 1)            641         flatten[0][0]                    \n",
      "==================================================================================================\n",
      "Total params: 121,306,841\n",
      "Trainable params: 514,561\n",
      "Non-trainable params: 120,792,280\n",
      "__________________________________________________________________________________________________\n"
     ]
    }
   ],
   "source": [
    "bn_model=conv1d_BN(1000,200,embedding_matrix)"
   ]
  },
  {
   "cell_type": "code",
   "execution_count": 17,
   "metadata": {},
   "outputs": [],
   "source": [
    "# from sklearn.model_selection import train_test_split\n",
    "\n",
    "# x_train, x_valid, y_train, y_valid = train_test_split(x,y, test_size=0.33, shuffle= True)"
   ]
  },
  {
   "cell_type": "code",
   "execution_count": 18,
   "metadata": {},
   "outputs": [],
   "source": [
    "# x=None\n",
    "# y=None"
   ]
  },
  {
   "cell_type": "code",
   "execution_count": 14,
   "metadata": {},
   "outputs": [],
   "source": [
    "x_val=np.load('padded_test.npy')\n",
    "y_val=le.transform(np.load('hyperpartisan_labels_test.npy',allow_pickle=True))"
   ]
  },
  {
   "cell_type": "code",
   "execution_count": 15,
   "metadata": {},
   "outputs": [
    {
     "name": "stdout",
     "output_type": "stream",
     "text": [
      "Epoch 1/10\n",
      "4688/4688 [==============================] - ETA: 0s - loss: 0.2384 - accuracy: 0.9016\n",
      "Epoch 00001: val_accuracy improved from -inf to 0.56459, saving model to bn_model_glove_1000.h5\n",
      "4688/4688 [==============================] - 1096s 234ms/step - loss: 0.2384 - accuracy: 0.9016 - val_loss: 1.0698 - val_accuracy: 0.5646\n",
      "Epoch 2/10\n",
      "4688/4688 [==============================] - ETA: 0s - loss: 0.1582 - accuracy: 0.9346\n",
      "Epoch 00002: val_accuracy improved from 0.56459 to 0.56726, saving model to bn_model_glove_1000.h5\n",
      "4688/4688 [==============================] - 1096s 234ms/step - loss: 0.1582 - accuracy: 0.9346 - val_loss: 1.0723 - val_accuracy: 0.5673\n",
      "Epoch 3/10\n",
      "4688/4688 [==============================] - ETA: 0s - loss: 0.1312 - accuracy: 0.9469\n",
      "Epoch 00003: val_accuracy did not improve from 0.56726\n",
      "4688/4688 [==============================] - 1090s 233ms/step - loss: 0.1312 - accuracy: 0.9469 - val_loss: 1.2708 - val_accuracy: 0.5572\n",
      "Epoch 4/10\n",
      "4688/4688 [==============================] - ETA: 0s - loss: 0.1036 - accuracy: 0.9591\n",
      "Epoch 00004: val_accuracy did not improve from 0.56726\n",
      "4688/4688 [==============================] - 1089s 232ms/step - loss: 0.1036 - accuracy: 0.9591 - val_loss: 1.4385 - val_accuracy: 0.5636\n",
      "Epoch 5/10\n",
      "4688/4688 [==============================] - ETA: 0s - loss: 0.0798 - accuracy: 0.9688\n",
      "Epoch 00005: val_accuracy improved from 0.56726 to 0.57235, saving model to bn_model_glove_1000.h5\n",
      "4688/4688 [==============================] - 1100s 235ms/step - loss: 0.0798 - accuracy: 0.9688 - val_loss: 1.5619 - val_accuracy: 0.5723\n",
      "Epoch 6/10\n",
      "4688/4688 [==============================] - ETA: 0s - loss: 0.0598 - accuracy: 0.9771\n",
      "Epoch 00006: val_accuracy did not improve from 0.57235\n",
      "4688/4688 [==============================] - 1092s 233ms/step - loss: 0.0598 - accuracy: 0.9771 - val_loss: 1.8134 - val_accuracy: 0.5634\n",
      "Epoch 7/10\n",
      "4688/4688 [==============================] - ETA: 0s - loss: 0.0497 - accuracy: 0.9813\n",
      "Epoch 00007: val_accuracy did not improve from 0.57235\n",
      "4688/4688 [==============================] - 1088s 232ms/step - loss: 0.0497 - accuracy: 0.9813 - val_loss: 2.1661 - val_accuracy: 0.5558\n",
      "Epoch 8/10\n",
      "4688/4688 [==============================] - ETA: 0s - loss: 0.0413 - accuracy: 0.9846\n",
      "Epoch 00008: val_accuracy did not improve from 0.57235\n",
      "4688/4688 [==============================] - 1088s 232ms/step - loss: 0.0413 - accuracy: 0.9846 - val_loss: 2.3236 - val_accuracy: 0.5639\n",
      "Epoch 9/10\n",
      "4688/4688 [==============================] - ETA: 0s - loss: 0.0362 - accuracy: 0.9866\n",
      "Epoch 00009: val_accuracy did not improve from 0.57235\n",
      "4688/4688 [==============================] - 1089s 232ms/step - loss: 0.0362 - accuracy: 0.9866 - val_loss: 2.4965 - val_accuracy: 0.5675\n",
      "Epoch 10/10\n",
      "4688/4688 [==============================] - ETA: 0s - loss: 0.0330 - accuracy: 0.9880\n",
      "Epoch 00010: val_accuracy did not improve from 0.57235\n",
      "4688/4688 [==============================] - 1088s 232ms/step - loss: 0.0330 - accuracy: 0.9880 - val_loss: 3.0826 - val_accuracy: 0.5528\n"
     ]
    }
   ],
   "source": [
    "history=bn_model.fit(x,y,validation_data=(x_val,y_val),epochs=10,batch_size=128,callbacks=[mc])"
   ]
  },
  {
   "cell_type": "code",
   "execution_count": 16,
   "metadata": {},
   "outputs": [
    {
     "data": {
      "image/png": "[encoded data removed]",
      "text/plain": [
       "<Figure size 432x288 with 1 Axes>"
      ]
     },
     "metadata": {
      "needs_background": "light"
     },
     "output_type": "display_data"
    },
    {
     "data": {
      "image/png": "[encoded data removed]",
      "text/plain": [
       "<Figure size 432x288 with 1 Axes>"
      ]
     },
     "metadata": {
      "needs_background": "light"
     },
     "output_type": "display_data"
    }
   ],
   "source": [
    "import matplotlib.pyplot as plt\n",
    "\n",
    "# summarize history for accuracy\n",
    "plt.plot(history.history['accuracy'])\n",
    "plt.plot(history.history['val_accuracy'])\n",
    "plt.title('model accuracy')\n",
    "plt.ylabel('accuracy')\n",
    "plt.xlabel('epoch')\n",
    "plt.legend(['train', 'validation'], loc='upper left')\n",
    "plt.show()\n",
    "\n",
    "# summarize history for loss\n",
    "plt.plot(history.history['loss'])\n",
    "plt.plot(history.history['val_loss'])\n",
    "plt.title('model loss')\n",
    "plt.ylabel('loss')\n",
    "plt.xlabel('epoch')\n",
    "plt.legend(['train', 'validation'], loc='upper left')\n",
    "plt.show()"
   ]
  },
  {
   "cell_type": "code",
   "execution_count": 17,
   "metadata": {},
   "outputs": [],
   "source": [
    "from tensorflow.keras.models import load_model\n",
    "model=load_model('bn_model_glove_1000.h5')"
   ]
  },
  {
   "cell_type": "code",
   "execution_count": 18,
   "metadata": {},
   "outputs": [],
   "source": [
    "article_json=r'E:\\iiit\\Sem3\\Information Extraction And Retrieval\\major_project\\data\\json\\by_articles.json'"
   ]
  },
  {
   "cell_type": "code",
   "execution_count": 19,
   "metadata": {},
   "outputs": [],
   "source": [
    "df_article=pd.read_json(article_json).T"
   ]
  },
  {
   "cell_type": "code",
   "execution_count": 20,
   "metadata": {},
   "outputs": [],
   "source": [
    "encoded_article=tokenizer.texts_to_sequences(df_article['text'].values.tolist())"
   ]
  },
  {
   "cell_type": "code",
   "execution_count": 21,
   "metadata": {},
   "outputs": [],
   "source": [
    "padded_article=pad_sequences(encoded_article,maxlen=max_length,padding='post')"
   ]
  },
  {
   "cell_type": "code",
   "execution_count": 22,
   "metadata": {},
   "outputs": [],
   "source": [
    "y_article=le.transform(df_article['hyperpartisan'].values)"
   ]
  },
  {
   "cell_type": "code",
   "execution_count": 28,
   "metadata": {},
   "outputs": [],
   "source": [
    "article_preds=(model.predict(padded_article)>0.5).astype('int32')"
   ]
  },
  {
   "cell_type": "code",
   "execution_count": null,
   "metadata": {},
   "outputs": [],
   "source": []
  },
  {
   "cell_type": "code",
   "execution_count": 30,
   "metadata": {},
   "outputs": [
    {
     "name": "stdout",
     "output_type": "stream",
     "text": [
      "Accuracy Score 0.5534883720930233\n",
      "F1 Score 0.6022099447513812\n"
     ]
    }
   ],
   "source": [
    "from sklearn.metrics import accuracy_score,f1_score\n",
    "print(f'Accuracy Score {accuracy_score(y_article,article_preds)}')\n",
    "print(f'F1 Score {f1_score(y_article,article_preds)}')"
   ]
  },
  {
   "cell_type": "code",
   "execution_count": null,
   "metadata": {},
   "outputs": [],
   "source": []
  },
  {
   "cell_type": "code",
   "execution_count": null,
   "metadata": {},
   "outputs": [],
   "source": []
  },
  {
   "cell_type": "code",
   "execution_count": null,
   "metadata": {},
   "outputs": [],
   "source": []
  },
  {
   "cell_type": "code",
   "execution_count": null,
   "metadata": {},
   "outputs": [],
   "source": []
  }
 ],
 "metadata": {
  "kernelspec": {
   "display_name": "Python 3",
   "language": "python",
   "name": "python3"
  },
  "language_info": {
   "codemirror_mode": {
    "name": "ipython",
    "version": 3
   },
   "file_extension": ".py",
   "mimetype": "text/x-python",
   "name": "python",
   "nbconvert_exporter": "python",
   "pygments_lexer": "ipython3",
   "version": "3.7.4"
  }
 },
 "nbformat": 4,
 "nbformat_minor": 4
}
