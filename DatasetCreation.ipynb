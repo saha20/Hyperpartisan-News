{
  "nbformat": 4,
  "nbformat_minor": 0,
  "metadata": {
    "colab": {
      "name": "DatasetCreation.ipynb",
      "provenance": [],
      "collapsed_sections": []
    },
    "kernelspec": {
      "name": "python3",
      "display_name": "Python 3"
    },
    "accelerator": "GPU"
  },
  "cells": [
    {
      "cell_type": "code",
      "metadata": {
        "id": "io03DODBvCiX"
      },
      "source": [
        "from IPython.display import HTML, display\n",
        "\n",
        "def set_css():\n",
        "  display(HTML('''\n",
        "  <style>\n",
        "    pre {\n",
        "        white-space: pre-wrap;\n",
        "    }\n",
        "  </style>\n",
        "  '''))\n",
        "get_ipython().events.register('pre_run_cell', set_css)\n"
      ],
      "execution_count": null,
      "outputs": []
    },
    {
      "cell_type": "code",
      "metadata": {
        "id": "zirPRfSuvK2Z",
        "colab": {
          "base_uri": "https://localhost:8080/",
          "height": 489
        },
        "outputId": "eac264a8-2801-4d95-ab55-5d168cb47a6d"
      },
      "source": [
        "# ! wget \"https://zenodo.org/record/1489920/files/articles-training-byarticle-20181122.zip\"\n",
        "# ! unzip \"articles-training-byarticle-20181122.zip\"\n",
        "! wget \"https://zenodo.org/record/1489920/files/articles-training-bypublisher-20181122.zip\"\n",
        "! unzip \"articles-training-bypublisher-20181122.zip\"\n",
        "! wget \"https://zenodo.org/record/1489920/files/articles-validation-bypublisher-20181122.zip\"\n",
        "! unzip \"articles-validation-bypublisher-20181122.zip\" "
      ],
      "execution_count": null,
      "outputs": [
        {
          "output_type": "display_data",
          "data": {
            "text/html": [
              "\n",
              "  <style>\n",
              "    pre {\n",
              "        white-space: pre-wrap;\n",
              "    }\n",
              "  </style>\n",
              "  "
            ],
            "text/plain": [
              "<IPython.core.display.HTML object>"
            ]
          },
          "metadata": {
            "tags": []
          }
        },
        {
          "output_type": "stream",
          "text": [
            "--2020-11-16 20:37:34--  https://zenodo.org/record/1489920/files/articles-training-bypublisher-20181122.zip\n",
            "Resolving zenodo.org (zenodo.org)... 137.138.76.77\n",
            "Connecting to zenodo.org (zenodo.org)|137.138.76.77|:443... connected.\n",
            "HTTP request sent, awaiting response... 200 OK\n",
            "Length: 980769009 (935M) [application/octet-stream]\n",
            "Saving to: ‘articles-training-bypublisher-20181122.zip’\n",
            "\n",
            "articles-training-b 100%[===================>] 935.33M  11.3MB/s    in 95s     \n",
            "\n",
            "2020-11-16 20:39:10 (9.83 MB/s) - ‘articles-training-bypublisher-20181122.zip’ saved [980769009/980769009]\n",
            "\n",
            "Archive:  articles-training-bypublisher-20181122.zip\n",
            "  inflating: articles-training-bypublisher-20181122.xml  \n",
            "--2020-11-16 20:39:47--  https://zenodo.org/record/1489920/files/articles-validation-bypublisher-20181122.zip\n",
            "Resolving zenodo.org (zenodo.org)... 137.138.76.77\n",
            "Connecting to zenodo.org (zenodo.org)|137.138.76.77|:443... connected.\n",
            "HTTP request sent, awaiting response... 200 OK\n",
            "Length: 337386275 (322M) [application/octet-stream]\n",
            "Saving to: ‘articles-validation-bypublisher-20181122.zip’\n",
            "\n",
            "articles-validation 100%[===================>] 321.76M  8.73MB/s    in 27s     \n",
            "\n",
            "2020-11-16 20:40:15 (11.9 MB/s) - ‘articles-validation-bypublisher-20181122.zip’ saved [337386275/337386275]\n",
            "\n",
            "Archive:  articles-validation-bypublisher-20181122.zip\n",
            "  inflating: articles-validation-bypublisher-20181122.xml  \n"
          ],
          "name": "stdout"
        }
      ]
    },
    {
      "cell_type": "code",
      "metadata": {
        "id": "b3VoDKlRvORF",
        "colab": {
          "base_uri": "https://localhost:8080/",
          "height": 489
        },
        "outputId": "a40f0341-ac1b-472d-dc5c-3090841cb36e"
      },
      "source": [
        "# ! wget \"https://zenodo.org/record/1489920/files/ground-truth-training-byarticle-20181122.zip\"\n",
        "# ! unzip \"ground-truth-training-byarticle-20181122.zip\"\n",
        "! wget \"https://zenodo.org/record/1489920/files/ground-truth-training-bypublisher-20181122.zip\"\n",
        "! unzip \"ground-truth-training-bypublisher-20181122.zip\"\n",
        "! wget \"https://zenodo.org/record/1489920/files/ground-truth-validation-bypublisher-20181122.zip\"\n",
        "! unzip \"ground-truth-validation-bypublisher-20181122.zip\""
      ],
      "execution_count": null,
      "outputs": [
        {
          "output_type": "display_data",
          "data": {
            "text/html": [
              "\n",
              "  <style>\n",
              "    pre {\n",
              "        white-space: pre-wrap;\n",
              "    }\n",
              "  </style>\n",
              "  "
            ],
            "text/plain": [
              "<IPython.core.display.HTML object>"
            ]
          },
          "metadata": {
            "tags": []
          }
        },
        {
          "output_type": "stream",
          "text": [
            "--2020-11-16 20:40:25--  https://zenodo.org/record/1489920/files/ground-truth-training-bypublisher-20181122.zip\n",
            "Resolving zenodo.org (zenodo.org)... 137.138.76.77\n",
            "Connecting to zenodo.org (zenodo.org)|137.138.76.77|:443... connected.\n",
            "HTTP request sent, awaiting response... 200 OK\n",
            "Length: 22426411 (21M) [application/octet-stream]\n",
            "Saving to: ‘ground-truth-training-bypublisher-20181122.zip’\n",
            "\n",
            "ground-truth-traini 100%[===================>]  21.39M  16.5MB/s    in 1.3s    \n",
            "\n",
            "2020-11-16 20:40:27 (16.5 MB/s) - ‘ground-truth-training-bypublisher-20181122.zip’ saved [22426411/22426411]\n",
            "\n",
            "Archive:  ground-truth-training-bypublisher-20181122.zip\n",
            "  inflating: ground-truth-training-bypublisher-20181122.xml  \n",
            "--2020-11-16 20:40:28--  https://zenodo.org/record/1489920/files/ground-truth-validation-bypublisher-20181122.zip\n",
            "Resolving zenodo.org (zenodo.org)... 137.138.76.77\n",
            "Connecting to zenodo.org (zenodo.org)|137.138.76.77|:443... connected.\n",
            "HTTP request sent, awaiting response... 200 OK\n",
            "Length: 5239324 (5.0M) [application/octet-stream]\n",
            "Saving to: ‘ground-truth-validation-bypublisher-20181122.zip’\n",
            "\n",
            "ground-truth-valida 100%[===================>]   5.00M  7.12MB/s    in 0.7s    \n",
            "\n",
            "2020-11-16 20:40:30 (7.12 MB/s) - ‘ground-truth-validation-bypublisher-20181122.zip’ saved [5239324/5239324]\n",
            "\n",
            "Archive:  ground-truth-validation-bypublisher-20181122.zip\n",
            "  inflating: ground-truth-validation-bypublisher-20181122.xml  \n"
          ],
          "name": "stdout"
        }
      ]
    },
    {
      "cell_type": "code",
      "metadata": {
        "id": "gJ8sDws2yXEd",
        "colab": {
          "base_uri": "https://localhost:8080/",
          "height": 17
        },
        "outputId": "9d6340ee-1dd0-4d75-8ba9-e231dc2528e8"
      },
      "source": [
        "import xml.sax\n",
        "\n",
        "training_articles = {}\n",
        "training_ground_dict ={}"
      ],
      "execution_count": null,
      "outputs": [
        {
          "output_type": "display_data",
          "data": {
            "text/html": [
              "\n",
              "  <style>\n",
              "    pre {\n",
              "        white-space: pre-wrap;\n",
              "    }\n",
              "  </style>\n",
              "  "
            ],
            "text/plain": [
              "<IPython.core.display.HTML object>"
            ]
          },
          "metadata": {
            "tags": []
          }
        }
      ]
    },
    {
      "cell_type": "code",
      "metadata": {
        "id": "Oo1xtV5hyrq1",
        "colab": {
          "base_uri": "https://localhost:8080/",
          "height": 17
        },
        "outputId": "b27752e4-ae1c-4eea-b584-c57b1096dc4f"
      },
      "source": [
        "class DataParserTraining(xml.sax.ContentHandler):\n",
        "\n",
        "    def __init__(self):\n",
        "        self.title = \"\"\n",
        "        self.text = \"\"\n",
        "        self.id = \"\"\n",
        "        self.date = \"\"\n",
        "\n",
        "    def startElement(self, tag, attributes):\n",
        "        if tag == \"article\":\n",
        "            self.text = \"\"\n",
        "            self.date = \"\"\n",
        "            self.title = \"\"\n",
        "            self.title = attributes[\"title\"]\n",
        "            self.id = attributes[\"id\"]\n",
        "            if \"published-at\" in attributes:\n",
        "                self.date = attributes[\"published-at\"]\n",
        "\n",
        "    def characters(self, content):\n",
        "\n",
        "        self.text += content\n",
        "\n",
        "    def endElement(self, tag):\n",
        "        if tag == \"article\":\n",
        "            lis = [self.date, self.title, self.text]\n",
        "            training_articles[self.id] = lis  "
      ],
      "execution_count": null,
      "outputs": [
        {
          "output_type": "display_data",
          "data": {
            "text/html": [
              "\n",
              "  <style>\n",
              "    pre {\n",
              "        white-space: pre-wrap;\n",
              "    }\n",
              "  </style>\n",
              "  "
            ],
            "text/plain": [
              "<IPython.core.display.HTML object>"
            ]
          },
          "metadata": {
            "tags": []
          }
        }
      ]
    },
    {
      "cell_type": "code",
      "metadata": {
        "id": "flCsvtUEy1WB",
        "colab": {
          "base_uri": "https://localhost:8080/",
          "height": 17
        },
        "outputId": "8fa71beb-74ae-4b82-cd6b-e1da2ac93369"
      },
      "source": [
        "class DataParserGroundTruthTrain(xml.sax.ContentHandler):\n",
        "    def __init__(self):\n",
        "        self.d = {}\n",
        "        self.id = \"\"\n",
        "\n",
        "    def startElement(self, tag, attributes):\n",
        "        atts = [\"hyperpartisan\", \"labeled-by\", \"url\", \"bias\"]\n",
        "        if tag == \"article\":\n",
        "            self.d = {}\n",
        "            self.id = \"\"\n",
        "            self.id = attributes[\"id\"]\n",
        "            for a in atts:\n",
        "                if a in attributes:\n",
        "                    self.d[a] = attributes[a]\n",
        "        if self.id != \"\":\n",
        "            training_ground_dict[self.id] = self.d\n"
      ],
      "execution_count": null,
      "outputs": [
        {
          "output_type": "display_data",
          "data": {
            "text/html": [
              "\n",
              "  <style>\n",
              "    pre {\n",
              "        white-space: pre-wrap;\n",
              "    }\n",
              "  </style>\n",
              "  "
            ],
            "text/plain": [
              "<IPython.core.display.HTML object>"
            ]
          },
          "metadata": {
            "tags": []
          }
        }
      ]
    },
    {
      "cell_type": "code",
      "metadata": {
        "id": "CezWYViGy-pp",
        "colab": {
          "base_uri": "https://localhost:8080/",
          "height": 17
        },
        "outputId": "f4deb924-070e-4eed-fe38-858fdb6a5e09"
      },
      "source": [
        "train_parser = xml.sax.make_parser()\n",
        "handler = DataParserTraining()\n",
        "train_parser.setContentHandler(handler)\n",
        "# train_parser.parse('articles-training-byarticle-20181122.xml')\n",
        "train_parser.parse('articles-training-bypublisher-20181122.xml')\n",
        "# print(training_articles[\"0000007\"])"
      ],
      "execution_count": null,
      "outputs": [
        {
          "output_type": "display_data",
          "data": {
            "text/html": [
              "\n",
              "  <style>\n",
              "    pre {\n",
              "        white-space: pre-wrap;\n",
              "    }\n",
              "  </style>\n",
              "  "
            ],
            "text/plain": [
              "<IPython.core.display.HTML object>"
            ]
          },
          "metadata": {
            "tags": []
          }
        }
      ]
    },
    {
      "cell_type": "code",
      "metadata": {
        "id": "MybkMuWJ0dxA",
        "colab": {
          "base_uri": "https://localhost:8080/",
          "height": 17
        },
        "outputId": "bd3a415b-1459-4b19-bf99-db634a44d56c"
      },
      "source": [
        "TrainParser = xml.sax.make_parser()\n",
        "handler = DataParserGroundTruthTrain()\n",
        "TrainParser.setContentHandler(handler)\n",
        "# TrainParser.parse('ground-truth-training-byarticle-20181122.xml')\n",
        "TrainParser.parse('ground-truth-training-bypublisher-20181122.xml')"
      ],
      "execution_count": null,
      "outputs": [
        {
          "output_type": "display_data",
          "data": {
            "text/html": [
              "\n",
              "  <style>\n",
              "    pre {\n",
              "        white-space: pre-wrap;\n",
              "    }\n",
              "  </style>\n",
              "  "
            ],
            "text/plain": [
              "<IPython.core.display.HTML object>"
            ]
          },
          "metadata": {
            "tags": []
          }
        }
      ]
    },
    {
      "cell_type": "code",
      "metadata": {
        "id": "Oyuem0Yi1Y3d",
        "colab": {
          "base_uri": "https://localhost:8080/",
          "height": 17
        },
        "outputId": "44c4ae42-59d8-4f98-ab92-b5ed4514835b"
      },
      "source": [
        "import pandas as pd\n",
        "import re\n",
        "import string\n",
        "import nltk\n",
        "from nltk.corpus import stopwords\n",
        "from nltk.tokenize import word_tokenize\n",
        "import torch\n",
        "from torch import nn, optim\n",
        "from torch.utils.data import DataLoader, TensorDataset\n",
        "from tqdm.notebook import tqdm\n",
        "from collections import Counter\n",
        "from sklearn.model_selection import train_test_split\n",
        "import numpy as np\n",
        "from sklearn.metrics import f1_score\n",
        "from torchtext import data\n",
        "import json\n",
        "from torchtext import data\n",
        "\n",
        "tqdm.pandas()"
      ],
      "execution_count": null,
      "outputs": [
        {
          "output_type": "display_data",
          "data": {
            "text/html": [
              "\n",
              "  <style>\n",
              "    pre {\n",
              "        white-space: pre-wrap;\n",
              "    }\n",
              "  </style>\n",
              "  "
            ],
            "text/plain": [
              "<IPython.core.display.HTML object>"
            ]
          },
          "metadata": {
            "tags": []
          }
        }
      ]
    },
    {
      "cell_type": "code",
      "metadata": {
        "id": "fDKiEz6e1gyB",
        "colab": {
          "base_uri": "https://localhost:8080/",
          "height": 17
        },
        "outputId": "643bbd5a-88f8-44f2-b3ad-6eab30d5bc60"
      },
      "source": [
        "train_dataset = []\n",
        "train_keys = list(training_articles.keys())\n"
      ],
      "execution_count": null,
      "outputs": [
        {
          "output_type": "display_data",
          "data": {
            "text/html": [
              "\n",
              "  <style>\n",
              "    pre {\n",
              "        white-space: pre-wrap;\n",
              "    }\n",
              "  </style>\n",
              "  "
            ],
            "text/plain": [
              "<IPython.core.display.HTML object>"
            ]
          },
          "metadata": {
            "tags": []
          }
        }
      ]
    },
    {
      "cell_type": "code",
      "metadata": {
        "id": "sQa5f3Dp1pcA",
        "colab": {
          "base_uri": "https://localhost:8080/",
          "height": 17
        },
        "outputId": "96965d08-db69-422d-a1a1-23695ef4096e"
      },
      "source": [
        "for k in train_keys:\n",
        "  d = {}\n",
        "  d['id'] = k\n",
        "  d['title'] = training_articles[k][1]\n",
        "  d['text'] = training_articles[k][2]\n",
        "  d['hyperpartisan'] = training_ground_dict[k]['hyperpartisan']\n",
        "  d['url'] = training_ground_dict[k]['url']\n",
        "  d['labeled_by'] = training_ground_dict[k]['labeled-by']\n",
        "  train_dataset.append(d)"
      ],
      "execution_count": null,
      "outputs": [
        {
          "output_type": "display_data",
          "data": {
            "text/html": [
              "\n",
              "  <style>\n",
              "    pre {\n",
              "        white-space: pre-wrap;\n",
              "    }\n",
              "  </style>\n",
              "  "
            ],
            "text/plain": [
              "<IPython.core.display.HTML object>"
            ]
          },
          "metadata": {
            "tags": []
          }
        }
      ]
    },
    {
      "cell_type": "code",
      "metadata": {
        "id": "gMuOPQDbWwEN",
        "colab": {
          "base_uri": "https://localhost:8080/",
          "height": 17
        },
        "outputId": "93e07bd6-81c9-4c8e-ad55-0b6ebc0ff7e1"
      },
      "source": [
        "del train_keys\n",
        "del training_ground_dict"
      ],
      "execution_count": null,
      "outputs": [
        {
          "output_type": "display_data",
          "data": {
            "text/html": [
              "\n",
              "  <style>\n",
              "    pre {\n",
              "        white-space: pre-wrap;\n",
              "    }\n",
              "  </style>\n",
              "  "
            ],
            "text/plain": [
              "<IPython.core.display.HTML object>"
            ]
          },
          "metadata": {
            "tags": []
          }
        }
      ]
    },
    {
      "cell_type": "code",
      "metadata": {
        "id": "-tEzeT-EVnNK",
        "colab": {
          "base_uri": "https://localhost:8080/",
          "height": 17
        },
        "outputId": "555a9879-3f7f-46e5-f230-95ab46e2981f"
      },
      "source": [
        "json_object= json.dumps(train_dataset,indent=4)\n",
        "with open(\"train_article.json\", \"w\") as outfile: \n",
        "    outfile.write(json_object)"
      ],
      "execution_count": null,
      "outputs": [
        {
          "output_type": "display_data",
          "data": {
            "text/html": [
              "\n",
              "  <style>\n",
              "    pre {\n",
              "        white-space: pre-wrap;\n",
              "    }\n",
              "  </style>\n",
              "  "
            ],
            "text/plain": [
              "<IPython.core.display.HTML object>"
            ]
          },
          "metadata": {
            "tags": []
          }
        }
      ]
    },
    {
      "cell_type": "code",
      "metadata": {
        "id": "VhFkGcfcbEHZ",
        "colab": {
          "base_uri": "https://localhost:8080/",
          "height": 17
        },
        "outputId": "72ea593e-fb6a-47c0-da7c-271546e35201"
      },
      "source": [
        "\n",
        "%reset -f\n",
        "import json\n",
        "import xml.sax\n",
        "from IPython.display import HTML, display\n"
      ],
      "execution_count": null,
      "outputs": [
        {
          "output_type": "display_data",
          "data": {
            "text/html": [
              "\n",
              "  <style>\n",
              "    pre {\n",
              "        white-space: pre-wrap;\n",
              "    }\n",
              "  </style>\n",
              "  "
            ],
            "text/plain": [
              "<IPython.core.display.HTML object>"
            ]
          },
          "metadata": {
            "tags": []
          }
        }
      ]
    },
    {
      "cell_type": "code",
      "metadata": {
        "id": "QfjNvjTjdmPO",
        "colab": {
          "base_uri": "https://localhost:8080/",
          "height": 17
        },
        "outputId": "95e66c6a-37c6-4c04-d242-2a681ec39100"
      },
      "source": [
        "validation_ground_dict={}\n",
        "validation_articles ={}\n"
      ],
      "execution_count": null,
      "outputs": [
        {
          "output_type": "display_data",
          "data": {
            "text/html": [
              "\n",
              "  <style>\n",
              "    pre {\n",
              "        white-space: pre-wrap;\n",
              "    }\n",
              "  </style>\n",
              "  "
            ],
            "text/plain": [
              "<IPython.core.display.HTML object>"
            ]
          },
          "metadata": {
            "tags": []
          }
        }
      ]
    },
    {
      "cell_type": "code",
      "metadata": {
        "id": "B8k_iyr7yvbQ",
        "colab": {
          "base_uri": "https://localhost:8080/",
          "height": 17
        },
        "outputId": "055fac41-7e74-4f98-94ec-524a35503456"
      },
      "source": [
        "class DataParserValidation(xml.sax.ContentHandler):\n",
        "\n",
        "    def __init__(self):\n",
        "        self.title = \"\"\n",
        "        self.text = \"\"\n",
        "        self.id = \"\"\n",
        "        self.date = \"\"\n",
        "\n",
        "    def startElement(self, tag, attributes):\n",
        "        if tag == \"article\":\n",
        "            self.text = \"\"\n",
        "            self.date = \"\"\n",
        "            self.title = \"\"\n",
        "            self.title = attributes[\"title\"]\n",
        "            self.id = attributes[\"id\"]\n",
        "            if \"published-at\" in attributes:\n",
        "                self.date = attributes[\"published-at\"]\n",
        "\n",
        "    def characters(self, content):\n",
        "\n",
        "        self.text += content\n",
        "\n",
        "    def endElement(self, tag):\n",
        "        if tag == \"article\":\n",
        "            lis = [self.date, self.title, self.text]\n",
        "            validation_articles[self.id] = lis  "
      ],
      "execution_count": null,
      "outputs": [
        {
          "output_type": "display_data",
          "data": {
            "text/html": [
              "\n",
              "  <style>\n",
              "    pre {\n",
              "        white-space: pre-wrap;\n",
              "    }\n",
              "  </style>\n",
              "  "
            ],
            "text/plain": [
              "<IPython.core.display.HTML object>"
            ]
          },
          "metadata": {
            "tags": []
          }
        }
      ]
    },
    {
      "cell_type": "code",
      "metadata": {
        "id": "_6F9v2fTy9J_",
        "colab": {
          "base_uri": "https://localhost:8080/",
          "height": 17
        },
        "outputId": "8fd73991-cf84-457d-d979-ab9dbc43ec35"
      },
      "source": [
        "class DataParserGroundTruthVal(xml.sax.ContentHandler):\n",
        "    def __init__(self):\n",
        "        self.d = {}\n",
        "        self.id = \"\"\n",
        "\n",
        "    def startElement(self, tag, attributes):\n",
        "        atts = [\"hyperpartisan\", \"labeled-by\", \"url\", \"bias\"]\n",
        "        if tag == \"article\":\n",
        "            self.d = {}\n",
        "            self.id = \"\"\n",
        "            self.id = attributes[\"id\"]\n",
        "            for a in atts:\n",
        "                if a in attributes:\n",
        "                    self.d[a] = attributes[a]\n",
        "        if self.id != \"\":\n",
        "            validation_ground_dict[self.id] = self.d\n"
      ],
      "execution_count": null,
      "outputs": [
        {
          "output_type": "display_data",
          "data": {
            "text/html": [
              "\n",
              "  <style>\n",
              "    pre {\n",
              "        white-space: pre-wrap;\n",
              "    }\n",
              "  </style>\n",
              "  "
            ],
            "text/plain": [
              "<IPython.core.display.HTML object>"
            ]
          },
          "metadata": {
            "tags": []
          }
        }
      ]
    },
    {
      "cell_type": "code",
      "metadata": {
        "id": "EEaKYZo3zFnB",
        "colab": {
          "base_uri": "https://localhost:8080/",
          "height": 17
        },
        "outputId": "8ec101bd-43cb-4561-9534-6e16de8f59c9"
      },
      "source": [
        "validation_parser = xml.sax.make_parser()\n",
        "handler = DataParserValidation()\n",
        "validation_parser.setContentHandler(handler)\n",
        "validation_parser.parse('articles-validation-bypublisher-20181122.xml')\n"
      ],
      "execution_count": null,
      "outputs": [
        {
          "output_type": "display_data",
          "data": {
            "text/html": [
              "\n",
              "  <style>\n",
              "    pre {\n",
              "        white-space: pre-wrap;\n",
              "    }\n",
              "  </style>\n",
              "  "
            ],
            "text/plain": [
              "<IPython.core.display.HTML object>"
            ]
          },
          "metadata": {
            "tags": []
          }
        }
      ]
    },
    {
      "cell_type": "code",
      "metadata": {
        "id": "zkzG-z_W0xhl",
        "colab": {
          "base_uri": "https://localhost:8080/",
          "height": 17
        },
        "outputId": "c2521175-8eea-40aa-d445-134e526ac07d"
      },
      "source": [
        "ValParser = xml.sax.make_parser()\n",
        "handler = DataParserGroundTruthVal()\n",
        "ValParser.setContentHandler(handler)\n",
        "ValParser.parse('ground-truth-validation-bypublisher-20181122.xml')"
      ],
      "execution_count": null,
      "outputs": [
        {
          "output_type": "display_data",
          "data": {
            "text/html": [
              "\n",
              "  <style>\n",
              "    pre {\n",
              "        white-space: pre-wrap;\n",
              "    }\n",
              "  </style>\n",
              "  "
            ],
            "text/plain": [
              "<IPython.core.display.HTML object>"
            ]
          },
          "metadata": {
            "tags": []
          }
        }
      ]
    },
    {
      "cell_type": "code",
      "metadata": {
        "id": "ZmGruM65dXb9",
        "colab": {
          "base_uri": "https://localhost:8080/",
          "height": 17
        },
        "outputId": "20a50530-dcfb-49c1-e7b7-ede97dd33d08"
      },
      "source": [
        "validation_dataset=[]\n",
        "val_keys = list(validation_articles.keys())"
      ],
      "execution_count": null,
      "outputs": [
        {
          "output_type": "display_data",
          "data": {
            "text/html": [
              "\n",
              "  <style>\n",
              "    pre {\n",
              "        white-space: pre-wrap;\n",
              "    }\n",
              "  </style>\n",
              "  "
            ],
            "text/plain": [
              "<IPython.core.display.HTML object>"
            ]
          },
          "metadata": {
            "tags": []
          }
        }
      ]
    },
    {
      "cell_type": "code",
      "metadata": {
        "id": "RMkr1-D9aJPw",
        "colab": {
          "base_uri": "https://localhost:8080/",
          "height": 17
        },
        "outputId": "b9e1dee5-2cab-46d4-9849-121df55c0fb8"
      },
      "source": [
        "for k in val_keys:\n",
        "  d = {}\n",
        "  d['id'] = k\n",
        "  d['title'] = validation_articles[k][1]\n",
        "  d['text'] = validation_articles[k][2]\n",
        "  d['hyperpartisan'] = validation_ground_dict[k]['hyperpartisan']\n",
        "  d['url'] = validation_ground_dict[k]['url']\n",
        "  d['labeled_by'] = validation_ground_dict[k]['labeled-by']\n",
        "  validation_dataset.append(d)"
      ],
      "execution_count": null,
      "outputs": [
        {
          "output_type": "display_data",
          "data": {
            "text/html": [
              "\n",
              "  <style>\n",
              "    pre {\n",
              "        white-space: pre-wrap;\n",
              "    }\n",
              "  </style>\n",
              "  "
            ],
            "text/plain": [
              "<IPython.core.display.HTML object>"
            ]
          },
          "metadata": {
            "tags": []
          }
        }
      ]
    },
    {
      "cell_type": "code",
      "metadata": {
        "id": "txIRyDZra6A3",
        "colab": {
          "base_uri": "https://localhost:8080/",
          "height": 17
        },
        "outputId": "2877be89-24d0-4eed-c05a-9f531fba9c6a"
      },
      "source": [
        "json_object= json.dumps(validation_dataset,indent=4)\n",
        "with open(\"validation_article.json\", \"w\") as outfile: \n",
        "    outfile.write(json_object)"
      ],
      "execution_count": null,
      "outputs": [
        {
          "output_type": "display_data",
          "data": {
            "text/html": [
              "\n",
              "  <style>\n",
              "    pre {\n",
              "        white-space: pre-wrap;\n",
              "    }\n",
              "  </style>\n",
              "  "
            ],
            "text/plain": [
              "<IPython.core.display.HTML object>"
            ]
          },
          "metadata": {
            "tags": []
          }
        }
      ]
    },
    {
      "cell_type": "code",
      "metadata": {
        "id": "rbPVd66eeDV6",
        "colab": {
          "base_uri": "https://localhost:8080/",
          "height": 17
        },
        "outputId": "eb2f771a-a77a-41ad-edd1-ed5422e86915"
      },
      "source": [
        "%reset -f\n",
        "import json\n",
        "import xml.sax\n",
        "from IPython.display import HTML, display\n"
      ],
      "execution_count": null,
      "outputs": [
        {
          "output_type": "display_data",
          "data": {
            "text/html": [
              "\n",
              "  <style>\n",
              "    pre {\n",
              "        white-space: pre-wrap;\n",
              "    }\n",
              "  </style>\n",
              "  "
            ],
            "text/plain": [
              "<IPython.core.display.HTML object>"
            ]
          },
          "metadata": {
            "tags": []
          }
        }
      ]
    },
    {
      "cell_type": "code",
      "metadata": {
        "id": "rOvN3AZ_cueG",
        "colab": {
          "base_uri": "https://localhost:8080/",
          "height": 17
        },
        "outputId": "fdb1d26e-1eca-4030-a429-c297ff546f55"
      },
      "source": [
        "f = open('train_article.json')\n",
        "train_df_articles = json.load(f)\n",
        "for key in train_df_articles :\n",
        "  if key['hyperpartisan'] == 'true':\n",
        "    key['hyperpartisan'] = 1\n",
        "  else :\n",
        "    key['hyperpartisan'] = 0\n"
      ],
      "execution_count": null,
      "outputs": [
        {
          "output_type": "display_data",
          "data": {
            "text/html": [
              "\n",
              "  <style>\n",
              "    pre {\n",
              "        white-space: pre-wrap;\n",
              "    }\n",
              "  </style>\n",
              "  "
            ],
            "text/plain": [
              "<IPython.core.display.HTML object>"
            ]
          },
          "metadata": {
            "tags": []
          }
        }
      ]
    },
    {
      "cell_type": "code",
      "metadata": {
        "id": "wTbKGRVm1dfg",
        "colab": {
          "base_uri": "https://localhost:8080/",
          "height": 72
        },
        "outputId": "4c0323fd-926e-4fad-8fad-7e8adfe67398"
      },
      "source": [
        "import nltk\n",
        "from nltk.corpus import stopwords\n",
        "from nltk.tokenize import word_tokenize\n",
        "nltk.download('stopwords')"
      ],
      "execution_count": null,
      "outputs": [
        {
          "output_type": "display_data",
          "data": {
            "text/html": [
              "\n",
              "  <style>\n",
              "    pre {\n",
              "        white-space: pre-wrap;\n",
              "    }\n",
              "  </style>\n",
              "  "
            ],
            "text/plain": [
              "<IPython.core.display.HTML object>"
            ]
          },
          "metadata": {
            "tags": []
          }
        },
        {
          "output_type": "stream",
          "text": [
            "[nltk_data] Downloading package stopwords to /root/nltk_data...\n",
            "[nltk_data]   Unzipping corpora/stopwords.zip.\n"
          ],
          "name": "stdout"
        },
        {
          "output_type": "execute_result",
          "data": {
            "text/plain": [
              "True"
            ]
          },
          "metadata": {
            "tags": []
          },
          "execution_count": 26
        }
      ]
    },
    {
      "cell_type": "code",
      "metadata": {
        "id": "wf8_HlA2Ruyh",
        "colab": {
          "base_uri": "https://localhost:8080/",
          "height": 17
        },
        "outputId": "75ca3c69-e0ec-4c62-f04a-770f85ba8661"
      },
      "source": [
        "import re\n",
        "import string\n",
        "stop_words = set(stopwords.words('english'))\n",
        "def process_text(text):\n",
        "  text = text.lower()\n",
        "  text = text.translate(str.maketrans('', '', string.punctuation))\n",
        "  text = re.sub('[ ]+', ' ', text)\n",
        "  text = text.strip()\n",
        "  word_tokens = re.split(r'[^A-Za-z0-9]+', text)\n",
        "  filtered_text = [w for w in word_tokens if w not in stop_words]\n",
        "  text = (' ').join(filtered_text)\n",
        "  return text"
      ],
      "execution_count": null,
      "outputs": [
        {
          "output_type": "display_data",
          "data": {
            "text/html": [
              "\n",
              "  <style>\n",
              "    pre {\n",
              "        white-space: pre-wrap;\n",
              "    }\n",
              "  </style>\n",
              "  "
            ],
            "text/plain": [
              "<IPython.core.display.HTML object>"
            ]
          },
          "metadata": {
            "tags": []
          }
        }
      ]
    },
    {
      "cell_type": "code",
      "metadata": {
        "id": "V0Vbm2Z7e95Q",
        "colab": {
          "base_uri": "https://localhost:8080/",
          "height": 17
        },
        "outputId": "c5564752-c8ee-49a3-eb54-0f60ea11c7e7"
      },
      "source": [
        "for key in train_df_articles :\n",
        "   processed = process_text(key['text']);\n",
        "   key['text'] = processed"
      ],
      "execution_count": null,
      "outputs": [
        {
          "output_type": "display_data",
          "data": {
            "text/html": [
              "\n",
              "  <style>\n",
              "    pre {\n",
              "        white-space: pre-wrap;\n",
              "    }\n",
              "  </style>\n",
              "  "
            ],
            "text/plain": [
              "<IPython.core.display.HTML object>"
            ]
          },
          "metadata": {
            "tags": []
          }
        }
      ]
    },
    {
      "cell_type": "code",
      "metadata": {
        "id": "fqKywclNfblh",
        "colab": {
          "base_uri": "https://localhost:8080/",
          "height": 17
        },
        "outputId": "32d07c59-9240-4f0e-dc8e-d2340733b996"
      },
      "source": [
        "with open(\"train_processed_article.json\", \"w\") as outfile: \n",
        "    outfile.write(json.dumps(train_df_articles,indent=4))"
      ],
      "execution_count": null,
      "outputs": [
        {
          "output_type": "display_data",
          "data": {
            "text/html": [
              "\n",
              "  <style>\n",
              "    pre {\n",
              "        white-space: pre-wrap;\n",
              "    }\n",
              "  </style>\n",
              "  "
            ],
            "text/plain": [
              "<IPython.core.display.HTML object>"
            ]
          },
          "metadata": {
            "tags": []
          }
        }
      ]
    },
    {
      "cell_type": "code",
      "metadata": {
        "id": "Aj59YEagAXGU",
        "colab": {
          "base_uri": "https://localhost:8080/",
          "height": 17
        },
        "outputId": "3dbcabcc-68ca-4009-9aca-47aba0684452"
      },
      "source": [
        "%reset -f\n",
        "from IPython.display import HTML, display\n",
        "import json\n"
      ],
      "execution_count": null,
      "outputs": [
        {
          "output_type": "display_data",
          "data": {
            "text/html": [
              "\n",
              "  <style>\n",
              "    pre {\n",
              "        white-space: pre-wrap;\n",
              "    }\n",
              "  </style>\n",
              "  "
            ],
            "text/plain": [
              "<IPython.core.display.HTML object>"
            ]
          },
          "metadata": {
            "tags": []
          }
        }
      ]
    },
    {
      "cell_type": "code",
      "metadata": {
        "id": "8I8woxlMbY8Y",
        "colab": {
          "base_uri": "https://localhost:8080/",
          "height": 17
        },
        "outputId": "c5147a9c-d9f6-411a-a230-f600970de725"
      },
      "source": [
        "f = open('validation_article.json')\n",
        "validation_articles = json.load(f)\n",
        "for key in validation_articles :\n",
        "  if key['hyperpartisan'] == 'true':\n",
        "    key['hyperpartisan'] = 1\n",
        "  else :\n",
        "    key['hyperpartisan'] = 0"
      ],
      "execution_count": null,
      "outputs": [
        {
          "output_type": "display_data",
          "data": {
            "text/html": [
              "\n",
              "  <style>\n",
              "    pre {\n",
              "        white-space: pre-wrap;\n",
              "    }\n",
              "  </style>\n",
              "  "
            ],
            "text/plain": [
              "<IPython.core.display.HTML object>"
            ]
          },
          "metadata": {
            "tags": []
          }
        }
      ]
    },
    {
      "cell_type": "code",
      "metadata": {
        "id": "te6ciaikeKdt",
        "colab": {
          "base_uri": "https://localhost:8080/",
          "height": 72
        },
        "outputId": "1e5dee77-3a5f-437e-cc58-b5abe898a16e"
      },
      "source": [
        "import nltk\n",
        "from nltk.corpus import stopwords\n",
        "from nltk.tokenize import word_tokenize\n",
        "nltk.download('stopwords')"
      ],
      "execution_count": null,
      "outputs": [
        {
          "output_type": "display_data",
          "data": {
            "text/html": [
              "\n",
              "  <style>\n",
              "    pre {\n",
              "        white-space: pre-wrap;\n",
              "    }\n",
              "  </style>\n",
              "  "
            ],
            "text/plain": [
              "<IPython.core.display.HTML object>"
            ]
          },
          "metadata": {
            "tags": []
          }
        },
        {
          "output_type": "stream",
          "text": [
            "[nltk_data] Downloading package stopwords to /root/nltk_data...\n",
            "[nltk_data]   Package stopwords is already up-to-date!\n"
          ],
          "name": "stdout"
        },
        {
          "output_type": "execute_result",
          "data": {
            "text/plain": [
              "True"
            ]
          },
          "metadata": {
            "tags": []
          },
          "execution_count": 32
        }
      ]
    },
    {
      "cell_type": "code",
      "metadata": {
        "id": "fxBJUzwaeT5c",
        "colab": {
          "base_uri": "https://localhost:8080/",
          "height": 17
        },
        "outputId": "43e11b49-09db-4875-bed9-eecef1c453d3"
      },
      "source": [
        "import re\n",
        "import string\n",
        "stop_words = set(stopwords.words('english'))\n",
        "def process_text(text):\n",
        "  text = text.lower()\n",
        "  text = text.translate(str.maketrans('', '', string.punctuation))\n",
        "  text = re.sub('[ ]+', ' ', text)\n",
        "  text = text.strip()\n",
        "  word_tokens = re.split(r'[^A-Za-z0-9]+', text)\n",
        "  filtered_text = [w for w in word_tokens if w not in stop_words]\n",
        "  text = (' ').join(filtered_text)\n",
        "  return text"
      ],
      "execution_count": null,
      "outputs": [
        {
          "output_type": "display_data",
          "data": {
            "text/html": [
              "\n",
              "  <style>\n",
              "    pre {\n",
              "        white-space: pre-wrap;\n",
              "    }\n",
              "  </style>\n",
              "  "
            ],
            "text/plain": [
              "<IPython.core.display.HTML object>"
            ]
          },
          "metadata": {
            "tags": []
          }
        }
      ]
    },
    {
      "cell_type": "code",
      "metadata": {
        "id": "jpbzJ1M1eU_2",
        "colab": {
          "base_uri": "https://localhost:8080/",
          "height": 17
        },
        "outputId": "f513497b-3f2f-4a04-c400-fc5d702ed0d1"
      },
      "source": [
        "for key in validation_articles :\n",
        "   processed = process_text(key['text']);\n",
        "   key['text'] = processed"
      ],
      "execution_count": null,
      "outputs": [
        {
          "output_type": "display_data",
          "data": {
            "text/html": [
              "\n",
              "  <style>\n",
              "    pre {\n",
              "        white-space: pre-wrap;\n",
              "    }\n",
              "  </style>\n",
              "  "
            ],
            "text/plain": [
              "<IPython.core.display.HTML object>"
            ]
          },
          "metadata": {
            "tags": []
          }
        }
      ]
    },
    {
      "cell_type": "code",
      "metadata": {
        "id": "lEoXHrHdebhq",
        "colab": {
          "base_uri": "https://localhost:8080/",
          "height": 17
        },
        "outputId": "524746e6-a340-453f-8ba0-86e3a2960f10"
      },
      "source": [
        "with open(\"validation_processed_article.json\", \"w\") as outfile: \n",
        "    outfile.write(json.dumps(validation_articles,indent=4))"
      ],
      "execution_count": null,
      "outputs": [
        {
          "output_type": "display_data",
          "data": {
            "text/html": [
              "\n",
              "  <style>\n",
              "    pre {\n",
              "        white-space: pre-wrap;\n",
              "    }\n",
              "  </style>\n",
              "  "
            ],
            "text/plain": [
              "<IPython.core.display.HTML object>"
            ]
          },
          "metadata": {
            "tags": []
          }
        }
      ]
    },
    {
      "cell_type": "code",
      "metadata": {
        "id": "T6GnJJaBeibx",
        "colab": {
          "base_uri": "https://localhost:8080/",
          "height": 17
        },
        "outputId": "1d9616f3-33e9-4254-e5ba-d3499089d3b6"
      },
      "source": [
        "%reset -f\n",
        "from IPython.display import HTML, display\n",
        "import json"
      ],
      "execution_count": null,
      "outputs": [
        {
          "output_type": "display_data",
          "data": {
            "text/html": [
              "\n",
              "  <style>\n",
              "    pre {\n",
              "        white-space: pre-wrap;\n",
              "    }\n",
              "  </style>\n",
              "  "
            ],
            "text/plain": [
              "<IPython.core.display.HTML object>"
            ]
          },
          "metadata": {
            "tags": []
          }
        }
      ]
    },
    {
      "cell_type": "code",
      "metadata": {
        "id": "C_Yf1wJv1r6R",
        "colab": {
          "base_uri": "https://localhost:8080/",
          "height": 35
        },
        "outputId": "1d47f512-9cf2-4cbe-bdde-387ca0aca4ae"
      },
      "source": [
        "!cp train_processed_article.json /content/drive/MyDrive/IRE_project/\n",
        "# !cp validation_processed_article.json /content/drive/My\\ Drive/IRE_project/"
      ],
      "execution_count": null,
      "outputs": [
        {
          "output_type": "display_data",
          "data": {
            "text/html": [
              "\n",
              "  <style>\n",
              "    pre {\n",
              "        white-space: pre-wrap;\n",
              "    }\n",
              "  </style>\n",
              "  "
            ],
            "text/plain": [
              "<IPython.core.display.HTML object>"
            ]
          },
          "metadata": {
            "tags": []
          }
        },
        {
          "output_type": "stream",
          "text": [
            "cp: cannot stat 'train_processed_article.json': No such file or directory\n"
          ],
          "name": "stdout"
        }
      ]
    },
    {
      "cell_type": "code",
      "metadata": {
        "id": "BDjf10Sv47SC",
        "colab": {
          "base_uri": "https://localhost:8080/",
          "height": 108
        },
        "outputId": "90cebcfb-06f8-41d3-f623-62608e96eae9"
      },
      "source": [
        "!du -csh *.json"
      ],
      "execution_count": null,
      "outputs": [
        {
          "output_type": "display_data",
          "data": {
            "text/html": [
              "\n",
              "  <style>\n",
              "    pre {\n",
              "        white-space: pre-wrap;\n",
              "    }\n",
              "  </style>\n",
              "  "
            ],
            "text/plain": [
              "<IPython.core.display.HTML object>"
            ]
          },
          "metadata": {
            "tags": []
          }
        },
        {
          "output_type": "stream",
          "text": [
            "2.5G\ttrain_article.json\n",
            "1.7G\ttrain_processed_article.json\n",
            "798M\tvalidation_article.json\n",
            "548M\tvalidation_processed_article.json\n",
            "5.5G\ttotal\n"
          ],
          "name": "stdout"
        }
      ]
    },
    {
      "cell_type": "code",
      "metadata": {
        "id": "w5pkLzy6NxGc"
      },
      "source": [
        "dict1 = {}\n",
        "f = open('train_processed_article.json')\n",
        "train = json.load(f)\n",
        "for key in train:\n",
        "  text=key['text'].split()\n",
        "  for w in text: \n",
        "    if w in dict1 :\n",
        "      dict1[w]+=1;\n",
        "    else:\n",
        "      dict1[w] =1;\n",
        "  "
      ],
      "execution_count": null,
      "outputs": []
    },
    {
      "cell_type": "code",
      "metadata": {
        "id": "4YQNk1cZPOHp"
      },
      "source": [
        "f = open('/content/drive/My Drive/dict1.json')\n",
        "dict1 = json.load(f)"
      ],
      "execution_count": null,
      "outputs": []
    },
    {
      "cell_type": "code",
      "metadata": {
        "id": "LuaiFJJUg5j2"
      },
      "source": [
        "f = open('validation_processed_article.json')\n",
        "val= json.load(f)\n",
        "# for key in val:\n",
        "#   text=key['text'].split()\n",
        "#   for w in text: \n",
        "#     if w in dict1 :\n",
        "#       dict1[w]+=1;\n",
        "#     else:\n",
        "#       dict1[w] =1;\n",
        "  "
      ],
      "execution_count": null,
      "outputs": []
    },
    {
      "cell_type": "code",
      "metadata": {
        "id": "flxmhOCngUH9",
        "colab": {
          "base_uri": "https://localhost:8080/",
          "height": 36
        },
        "outputId": "d79a3910-dc51-443a-b51d-ac9e28b9d6d2"
      },
      "source": [
        "print(len(dict1))\n",
        "json_data = json.dumps(dict1)\n",
        "with open('dict1.json', 'w') as out:\n",
        "  out.write(json_data)"
      ],
      "execution_count": null,
      "outputs": [
        {
          "output_type": "stream",
          "text": [
            "1995844\n"
          ],
          "name": "stdout"
        }
      ]
    },
    {
      "cell_type": "code",
      "metadata": {
        "id": "DC1pdGCWSwSK"
      },
      "source": [
        "# f = open('dict1.json')\n",
        "# dict1 = json.load(f)\n",
        "dictsort = sorted(dict1, key=dict1.get, reverse=True)"
      ],
      "execution_count": null,
      "outputs": []
    },
    {
      "cell_type": "code",
      "metadata": {
        "id": "qLBg0-sfTiEf",
        "colab": {
          "base_uri": "https://localhost:8080/",
          "height": 392
        },
        "outputId": "19fcbab4-db10-42b0-ce27-8655ec319a73"
      },
      "source": [
        "for i in range(0,10):\n",
        "  t = dictsort[i];\n",
        "  print(t)\n",
        "  print(dict1[t])"
      ],
      "execution_count": null,
      "outputs": [
        {
          "output_type": "stream",
          "text": [
            "said\n",
            "2021033\n",
            "us\n",
            "1316630\n",
            "new\n",
            "1250519\n",
            "one\n",
            "1178078\n",
            "would\n",
            "1161995\n",
            "people\n",
            "1002072\n",
            "also\n",
            "843455\n",
            "state\n",
            "732414\n",
            "like\n",
            "703121\n",
            "president\n",
            "665066\n"
          ],
          "name": "stdout"
        }
      ]
    },
    {
      "cell_type": "code",
      "metadata": {
        "id": "m0Yfk7Z2TiKr"
      },
      "source": [
        "for i in range(len(dict1)):\n",
        "  t = dictsort[i];\n",
        "  dict1[t]= i+1;"
      ],
      "execution_count": null,
      "outputs": []
    },
    {
      "cell_type": "code",
      "metadata": {
        "id": "mMOy0OHmU2mt"
      },
      "source": [
        "for key in train:\n",
        "  text=key['text'].split()\n",
        "  listtext=[]\n",
        "  for w in text:\n",
        "    if w in dict1:\n",
        "      listtext.append(dict1[w]);\n",
        "    else:\n",
        "      listtext.append(0)\n",
        "  key['text'] = listtext\n"
      ],
      "execution_count": null,
      "outputs": []
    },
    {
      "cell_type": "code",
      "metadata": {
        "id": "T3MalqtNTStW"
      },
      "source": [
        "from torchtext import data\n",
        "import numpy as np\n",
        "import json"
      ],
      "execution_count": null,
      "outputs": []
    },
    {
      "cell_type": "code",
      "metadata": {
        "id": "efci-7HtTmfi"
      },
      "source": [
        "def pad_features(reviews_int, seq_length):\n",
        "    features = np.zeros((seq_length), dtype=np.int32)\n",
        "    # print(len(reviews_int))\n",
        "    # print(features.shape)\n",
        "    # for i, row in enumerate(reviews_int):\n",
        "    #     features[i, -len(row):] = np.array(row)[:seq_length]\n",
        "    features[-len(reviews_int):] = np.array(reviews_int)[:seq_length]\n",
        "    return features"
      ],
      "execution_count": null,
      "outputs": []
    },
    {
      "cell_type": "code",
      "metadata": {
        "id": "w6LdZoGtWTgT"
      },
      "source": [
        "for key in train:\n",
        "  key['text'] = pad_features(key['text'],512)"
      ],
      "execution_count": null,
      "outputs": []
    },
    {
      "cell_type": "code",
      "metadata": {
        "id": "xpWQ3RqRYgPc"
      },
      "source": [
        "def convert_type(item):\n",
        "  item = np.array(item, dtype=np.int32)\n",
        "  return item"
      ],
      "execution_count": null,
      "outputs": []
    },
    {
      "cell_type": "code",
      "metadata": {
        "id": "0oTDiKkfXxv3"
      },
      "source": [
        "for key in train:\n",
        "  key['text'] = convert_type(key['text'])"
      ],
      "execution_count": null,
      "outputs": []
    },
    {
      "cell_type": "code",
      "metadata": {
        "id": "LLkcdODtg5kK"
      },
      "source": [
        "for key in val:\n",
        "  text=key['text'].split()\n",
        "  listtext=[]\n",
        "  for w in text: \n",
        "    listtext.append(dict1[w]);\n",
        "  key['text'] = listtext\n"
      ],
      "execution_count": null,
      "outputs": []
    },
    {
      "cell_type": "code",
      "metadata": {
        "id": "msM2u6d7g5kT"
      },
      "source": [
        "import numpy as np\n",
        "for key in val:\n",
        "  key['text'] = pad_features(key['text'],512)"
      ],
      "execution_count": null,
      "outputs": []
    },
    {
      "cell_type": "code",
      "metadata": {
        "id": "GJXF0BtSg5kY"
      },
      "source": [
        "for key in val:\n",
        "  key['text'] = convert_type(key['text'])"
      ],
      "execution_count": null,
      "outputs": []
    },
    {
      "cell_type": "code",
      "metadata": {
        "id": "d84-dVLrYsp-",
        "colab": {
          "base_uri": "https://localhost:8080/",
          "height": 36
        },
        "outputId": "55a228d4-0786-4082-a9b7-2b4f369848e3"
      },
      "source": [
        "train_features = []\n",
        "train_labels=[]\n",
        "for item in train:\n",
        "  train_features.append(np.array(item['text']))\n",
        "  train_labels.append(item['hyperpartisan'])\n",
        "train_features = np.array(train_features)\n",
        "len(train_features)"
      ],
      "execution_count": null,
      "outputs": [
        {
          "output_type": "execute_result",
          "data": {
            "text/plain": [
              "645"
            ]
          },
          "metadata": {
            "tags": []
          },
          "execution_count": 36
        }
      ]
    },
    {
      "cell_type": "code",
      "metadata": {
        "id": "3Rolcs9qhMl6"
      },
      "source": [
        "val_features = []\n",
        "val_labels=[]\n",
        "for item in val:\n",
        "  val_features.append(np.array(item['text']))\n",
        "  val_labels.append(item['hyperpartisan'])\n",
        "val_features = np.array(val_features)\n",
        "len(val_features)"
      ],
      "execution_count": null,
      "outputs": []
    },
    {
      "cell_type": "code",
      "metadata": {
        "id": "JxCG3GljZiAM"
      },
      "source": [
        "import torch\n",
        "from torch import nn, optim\n",
        "from torch.utils.data import DataLoader, TensorDataset\n",
        "from tqdm.notebook import tqdm"
      ],
      "execution_count": null,
      "outputs": []
    },
    {
      "cell_type": "code",
      "metadata": {
        "id": "CnRgU3f2ZAiG"
      },
      "source": [
        "train_data = TensorDataset(torch.from_numpy(train_features), torch.tensor(train_labels))\n",
        "val_data = TensorDataset(torch.from_numpy(val_features), torch.tensor(val_labels))"
      ],
      "execution_count": null,
      "outputs": []
    },
    {
      "cell_type": "code",
      "metadata": {
        "id": "7W1uDXpCV1wR"
      },
      "source": [
        "torch.save(train_data, 'train_data_byarticle.dataset')\n",
        "torch.save(val_data, 'val_data_bypublisher.dataset')"
      ],
      "execution_count": null,
      "outputs": []
    }
  ]
}